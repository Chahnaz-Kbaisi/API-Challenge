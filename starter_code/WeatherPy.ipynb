{
 "cells": [
  {
   "cell_type": "markdown",
   "metadata": {},
   "source": [
    "# WeatherPy\n",
    "----\n",
    "\n",
    "#### Note\n",
    "* Instructions have been included for each segment. You do not have to follow them exactly, but they are included to help you think through the steps."
   ]
  },
  {
   "cell_type": "code",
   "execution_count": 31,
   "metadata": {
    "scrolled": true
   },
   "outputs": [],
   "source": [
    "# Dependencies and Setup\n",
    "import matplotlib.pyplot as plt\n",
    "import pandas as pd\n",
    "import numpy as np\n",
    "import requests\n",
    "import time\n",
    "from scipy.stats import linregress\n",
    "\n",
    "# Import API key\n",
    "from api_keys import weather_api_key\n",
    "\n",
    "# Incorporated citipy to determine city based on latitude and longitude\n",
    "from citipy import citipy\n",
    "\n",
    "# Output File (CSV)\n",
    "output_data_file = \"output_data/cities.csv\"\n",
    "\n",
    "# Range of latitudes and longitudes\n",
    "lat_range = (-90, 90)\n",
    "lng_range = (-180, 180)"
   ]
  },
  {
   "cell_type": "markdown",
   "metadata": {},
   "source": [
    "## Generate Cities List"
   ]
  },
  {
   "cell_type": "code",
   "execution_count": 32,
   "metadata": {},
   "outputs": [
    {
     "data": {
      "text/plain": [
       "589"
      ]
     },
     "execution_count": 32,
     "metadata": {},
     "output_type": "execute_result"
    }
   ],
   "source": [
    "# List for holding lat_lngs and cities\n",
    "lat_lngs = []\n",
    "cities = []\n",
    "\n",
    "# Create a set of random lat and lng combinations\n",
    "lats = np.random.uniform(lat_range[0], lat_range[1], size=1500)\n",
    "lngs = np.random.uniform(lng_range[0], lng_range[1], size=1500)\n",
    "lat_lngs = zip(lats, lngs)\n",
    "\n",
    "# Identify nearest city for each lat, lng combination\n",
    "for lat_lng in lat_lngs:\n",
    "    city = citipy.nearest_city(lat_lng[0], lat_lng[1]).city_name\n",
    "    \n",
    "    # If the city is unique, then add it to a our cities list\n",
    "    if city not in cities:\n",
    "        cities.append(city)\n",
    "\n",
    "# Print the city count to confirm sufficient count\n",
    "len(cities)"
   ]
  },
  {
   "cell_type": "markdown",
   "metadata": {},
   "source": [
    "### Perform API Calls\n",
    "* Perform a weather check on each city using a series of successive API calls.\n",
    "* Include a print log of each city as it'sbeing processed (with the city number and city name).\n"
   ]
  },
  {
   "cell_type": "code",
   "execution_count": 33,
   "metadata": {},
   "outputs": [],
   "source": [
    "# save api_keys information:\n",
    "url = \"http://api.openweathermap.org/data/2.5/weather?\"\n",
    "units = \"Imperial\"\n",
    "\n",
    "# Build partial query URL\n",
    "query_url = f\"{url}&units={units}&appid={weather_api_key}&q=\""
   ]
  },
  {
   "cell_type": "code",
   "execution_count": 34,
   "metadata": {
    "scrolled": true
   },
   "outputs": [
    {
     "name": "stdout",
     "output_type": "stream",
     "text": [
      "Beginning Data Retrieval     \n",
      "-----------------------------\n",
      "Processing Record 1 of Set 1 | georgetown\n",
      "Processing Record 2 of Set 1 | barentsburg\n",
      "City not found. Skipping...\n",
      "Processing Record 3 of Set 1 | japura\n",
      "Processing Record 4 of Set 1 | mahebourg\n",
      "Processing Record 5 of Set 1 | vaini\n",
      "Processing Record 6 of Set 1 | busselton\n",
      "Processing Record 7 of Set 1 | tuktoyaktuk\n",
      "Processing Record 8 of Set 1 | port macquarie\n",
      "Processing Record 9 of Set 1 | auki\n",
      "Processing Record 10 of Set 1 | kununurra\n",
      "Processing Record 11 of Set 1 | bluff\n",
      "Processing Record 12 of Set 1 | port hardy\n",
      "Processing Record 13 of Set 1 | lasa\n",
      "Processing Record 14 of Set 1 | albany\n",
      "Processing Record 15 of Set 1 | chuy\n",
      "Processing Record 16 of Set 1 | amderma\n",
      "City not found. Skipping...\n",
      "Processing Record 17 of Set 1 | rikitea\n",
      "Processing Record 18 of Set 1 | atuona\n",
      "Processing Record 19 of Set 1 | punta arenas\n",
      "Processing Record 20 of Set 1 | mar del plata\n",
      "Processing Record 21 of Set 1 | airai\n",
      "Processing Record 22 of Set 1 | nizhneyansk\n",
      "City not found. Skipping...\n",
      "Processing Record 23 of Set 1 | evensk\n",
      "Processing Record 24 of Set 1 | yellowknife\n",
      "Processing Record 25 of Set 1 | barcelona\n",
      "Processing Record 26 of Set 1 | cape town\n",
      "Processing Record 27 of Set 1 | nikolskoye\n",
      "Processing Record 28 of Set 1 | college\n",
      "Processing Record 29 of Set 1 | bredasdorp\n",
      "Processing Record 30 of Set 1 | belushya guba\n",
      "City not found. Skipping...\n",
      "Processing Record 31 of Set 1 | sakakah\n",
      "Processing Record 32 of Set 1 | peniche\n",
      "Processing Record 33 of Set 1 | ushuaia\n",
      "Processing Record 34 of Set 1 | guerrero negro\n",
      "Processing Record 35 of Set 1 | camopi\n",
      "Processing Record 36 of Set 1 | molochnoye\n",
      "Processing Record 37 of Set 1 | lazarev\n",
      "Processing Record 38 of Set 1 | bambous virieux\n",
      "Processing Record 39 of Set 1 | oranjemund\n",
      "Processing Record 40 of Set 1 | iqaluit\n",
      "Processing Record 41 of Set 1 | paamiut\n",
      "Processing Record 42 of Set 1 | talnakh\n",
      "Processing Record 43 of Set 1 | umzimvubu\n",
      "City not found. Skipping...\n",
      "Processing Record 44 of Set 1 | chokwe\n",
      "Processing Record 45 of Set 1 | varhaug\n",
      "Processing Record 46 of Set 1 | port alfred\n",
      "Processing Record 47 of Set 1 | cherskiy\n",
      "Processing Record 48 of Set 1 | portland\n",
      "Processing Record 49 of Set 1 | tabiauea\n",
      "City not found. Skipping...\n",
      "Processing Record 50 of Set 1 | pevek\n",
      "Processing Record 0 of Set 2 | sao gabriel da cachoeira\n",
      "Processing Record 1 of Set 2 | yeppoon\n",
      "Processing Record 2 of Set 2 | te anau\n",
      "Processing Record 3 of Set 2 | septemes-les-vallons\n",
      "Processing Record 4 of Set 2 | hobart\n",
      "Processing Record 5 of Set 2 | lai\n",
      "Processing Record 6 of Set 2 | grand river south east\n",
      "City not found. Skipping...\n",
      "Processing Record 7 of Set 2 | butaritari\n",
      "Processing Record 8 of Set 2 | cidreira\n",
      "Processing Record 9 of Set 2 | hilo\n",
      "Processing Record 10 of Set 2 | hermanus\n",
      "Processing Record 11 of Set 2 | norman wells\n",
      "Processing Record 12 of Set 2 | new norfolk\n",
      "Processing Record 13 of Set 2 | padang\n",
      "Processing Record 14 of Set 2 | sabinopolis\n",
      "Processing Record 15 of Set 2 | coihaique\n",
      "Processing Record 16 of Set 2 | gushi\n",
      "Processing Record 17 of Set 2 | grindavik\n",
      "Processing Record 18 of Set 2 | port elizabeth\n",
      "Processing Record 19 of Set 2 | puerto ayora\n",
      "Processing Record 20 of Set 2 | aldan\n",
      "Processing Record 21 of Set 2 | brazzaville\n",
      "Processing Record 22 of Set 2 | ust-kamchatsk\n",
      "City not found. Skipping...\n",
      "Processing Record 23 of Set 2 | snihurivka\n",
      "Processing Record 24 of Set 2 | samarai\n",
      "Processing Record 25 of Set 2 | klaksvik\n",
      "Processing Record 26 of Set 2 | bubaque\n",
      "Processing Record 27 of Set 2 | cayenne\n",
      "Processing Record 28 of Set 2 | dali\n",
      "Processing Record 29 of Set 2 | qaanaaq\n",
      "Processing Record 30 of Set 2 | chokurdakh\n",
      "Processing Record 31 of Set 2 | quatre cocos\n",
      "Processing Record 32 of Set 2 | ribeira grande\n",
      "Processing Record 33 of Set 2 | comodoro rivadavia\n",
      "Processing Record 34 of Set 2 | vila franca do campo\n",
      "Processing Record 35 of Set 2 | avarua\n",
      "Processing Record 36 of Set 2 | boden\n",
      "Processing Record 37 of Set 2 | grao mogol\n",
      "Processing Record 38 of Set 2 | mys shmidta\n",
      "City not found. Skipping...\n",
      "Processing Record 39 of Set 2 | tongchuan\n",
      "Processing Record 40 of Set 2 | saint george\n",
      "Processing Record 41 of Set 2 | arraial do cabo\n",
      "Processing Record 42 of Set 2 | port shepstone\n",
      "Processing Record 43 of Set 2 | buala\n",
      "Processing Record 44 of Set 2 | teguise\n",
      "Processing Record 45 of Set 2 | birao\n",
      "Processing Record 46 of Set 2 | pustoshka\n",
      "Processing Record 47 of Set 2 | vaitupu\n",
      "City not found. Skipping...\n",
      "Processing Record 48 of Set 2 | sidi ali\n",
      "Processing Record 49 of Set 2 | jamestown\n",
      "Processing Record 0 of Set 3 | upernavik\n",
      "Processing Record 1 of Set 3 | luanda\n",
      "Processing Record 2 of Set 3 | bijar\n",
      "Processing Record 3 of Set 3 | gazli\n",
      "Processing Record 4 of Set 3 | amahai\n",
      "Processing Record 5 of Set 3 | lagoa\n",
      "Processing Record 6 of Set 3 | cabo san lucas\n",
      "Processing Record 7 of Set 3 | kuopio\n",
      "Processing Record 8 of Set 3 | moerai\n",
      "Processing Record 9 of Set 3 | illoqqortoormiut\n",
      "City not found. Skipping...\n",
      "Processing Record 10 of Set 3 | castro\n",
      "Processing Record 11 of Set 3 | svetlyy\n",
      "Processing Record 12 of Set 3 | komsomolskiy\n",
      "Processing Record 13 of Set 3 | blackwater\n",
      "Processing Record 14 of Set 3 | chara\n",
      "Processing Record 15 of Set 3 | san rafael\n",
      "Processing Record 16 of Set 3 | hawalli\n",
      "Processing Record 17 of Set 3 | hamilton\n",
      "Processing Record 18 of Set 3 | arlit\n",
      "Processing Record 19 of Set 3 | turayf\n",
      "Processing Record 20 of Set 3 | saint-philippe\n",
      "Processing Record 21 of Set 3 | kapaa\n",
      "Processing Record 22 of Set 3 | north platte\n",
      "Processing Record 23 of Set 3 | hithadhoo\n",
      "Processing Record 24 of Set 3 | chippewa falls\n",
      "Processing Record 25 of Set 3 | faanui\n",
      "Processing Record 26 of Set 3 | ranau\n",
      "Processing Record 27 of Set 3 | dukhovshchina\n",
      "Processing Record 28 of Set 3 | ambulu\n",
      "Processing Record 29 of Set 3 | waingapu\n",
      "Processing Record 30 of Set 3 | hobyo\n",
      "Processing Record 31 of Set 3 | taoudenni\n",
      "Processing Record 32 of Set 3 | coquimbo\n",
      "Processing Record 33 of Set 3 | psebay\n",
      "Processing Record 34 of Set 3 | westport\n",
      "Processing Record 35 of Set 3 | burnie\n",
      "Processing Record 36 of Set 3 | narsaq\n",
      "Processing Record 37 of Set 3 | mataura\n",
      "Processing Record 38 of Set 3 | nyagan\n",
      "Processing Record 39 of Set 3 | tuatapere\n",
      "Processing Record 40 of Set 3 | ovalle\n",
      "Processing Record 41 of Set 3 | bathsheba\n",
      "Processing Record 42 of Set 3 | kavaratti\n",
      "Processing Record 43 of Set 3 | namibe\n",
      "Processing Record 44 of Set 3 | thompson\n",
      "Processing Record 45 of Set 3 | voskresenskoye\n",
      "Processing Record 46 of Set 3 | razdolinsk\n",
      "Processing Record 47 of Set 3 | labutta\n",
      "City not found. Skipping...\n",
      "Processing Record 48 of Set 3 | coreau\n",
      "Processing Record 49 of Set 3 | tiksi\n",
      "Processing Record 0 of Set 4 | marcona\n",
      "City not found. Skipping...\n",
      "Processing Record 1 of Set 4 | victoria\n",
      "Processing Record 2 of Set 4 | warqla\n",
      "City not found. Skipping...\n",
      "Processing Record 3 of Set 4 | marawi\n",
      "Processing Record 4 of Set 4 | ponta do sol\n",
      "Processing Record 5 of Set 4 | filadelfia\n",
      "Processing Record 6 of Set 4 | eyl\n",
      "Processing Record 7 of Set 4 | dikson\n",
      "Processing Record 8 of Set 4 | lebu\n",
      "Processing Record 9 of Set 4 | west odessa\n",
      "Processing Record 10 of Set 4 | tasiilaq\n",
      "Processing Record 11 of Set 4 | zolotinka\n",
      "City not found. Skipping...\n",
      "Processing Record 12 of Set 4 | maningrida\n",
      "Processing Record 13 of Set 4 | san quintin\n",
      "Processing Record 14 of Set 4 | parsabad\n",
      "Processing Record 15 of Set 4 | kharan\n",
      "Processing Record 16 of Set 4 | montepuez\n",
      "Processing Record 17 of Set 4 | brigantine\n",
      "Processing Record 18 of Set 4 | boguchany\n",
      "Processing Record 19 of Set 4 | zhanaozen\n",
      "Processing Record 20 of Set 4 | pacifica\n",
      "Processing Record 21 of Set 4 | port hedland\n",
      "Processing Record 22 of Set 4 | karratha\n",
      "Processing Record 23 of Set 4 | vila velha\n",
      "Processing Record 24 of Set 4 | aswan\n",
      "Processing Record 25 of Set 4 | galgani\n",
      "City not found. Skipping...\n",
      "Processing Record 26 of Set 4 | aktash\n",
      "Processing Record 27 of Set 4 | fastiv\n",
      "Processing Record 28 of Set 4 | yarkovo\n",
      "Processing Record 29 of Set 4 | taolanaro\n",
      "City not found. Skipping...\n",
      "Processing Record 30 of Set 4 | nanga eboko\n",
      "Processing Record 31 of Set 4 | panjab\n",
      "Processing Record 32 of Set 4 | hami\n",
      "Processing Record 33 of Set 4 | banmo\n",
      "City not found. Skipping...\n",
      "Processing Record 34 of Set 4 | grand gaube\n"
     ]
    },
    {
     "name": "stdout",
     "output_type": "stream",
     "text": [
      "Processing Record 35 of Set 4 | kushiro\n",
      "Processing Record 36 of Set 4 | khatanga\n",
      "Processing Record 37 of Set 4 | piacabucu\n",
      "Processing Record 38 of Set 4 | trinidad\n",
      "Processing Record 39 of Set 4 | aberdeen\n",
      "Processing Record 40 of Set 4 | aksu\n",
      "Processing Record 41 of Set 4 | longyearbyen\n",
      "Processing Record 42 of Set 4 | colares\n",
      "Processing Record 43 of Set 4 | isla mujeres\n",
      "Processing Record 44 of Set 4 | carlisle\n",
      "Processing Record 45 of Set 4 | vardo\n",
      "Processing Record 46 of Set 4 | gold coast\n",
      "Processing Record 47 of Set 4 | ventspils\n",
      "Processing Record 48 of Set 4 | lohja\n",
      "Processing Record 49 of Set 4 | novo oriente\n",
      "Processing Record 0 of Set 5 | gayeri\n",
      "Processing Record 1 of Set 5 | tebingtinggi\n",
      "Processing Record 2 of Set 5 | chilca\n",
      "Processing Record 3 of Set 5 | san rafael del sur\n",
      "Processing Record 4 of Set 5 | semey\n",
      "Processing Record 5 of Set 5 | winnemucca\n",
      "Processing Record 6 of Set 5 | sioux lookout\n",
      "Processing Record 7 of Set 5 | rio gallegos\n",
      "Processing Record 8 of Set 5 | korla\n",
      "Processing Record 9 of Set 5 | jalu\n",
      "Processing Record 10 of Set 5 | lagunas\n",
      "Processing Record 11 of Set 5 | chimore\n",
      "Processing Record 12 of Set 5 | demba\n",
      "Processing Record 13 of Set 5 | tabou\n",
      "Processing Record 14 of Set 5 | kawalu\n",
      "Processing Record 15 of Set 5 | severo-kurilsk\n",
      "Processing Record 16 of Set 5 | ulaangom\n",
      "Processing Record 17 of Set 5 | anadyr\n",
      "Processing Record 18 of Set 5 | bandarbeyla\n",
      "Processing Record 19 of Set 5 | torbay\n",
      "Processing Record 20 of Set 5 | antsohihy\n",
      "Processing Record 21 of Set 5 | srikakulam\n",
      "Processing Record 22 of Set 5 | tyrma\n",
      "Processing Record 23 of Set 5 | dankov\n",
      "Processing Record 24 of Set 5 | attawapiskat\n",
      "City not found. Skipping...\n",
      "Processing Record 25 of Set 5 | yulara\n",
      "Processing Record 26 of Set 5 | kristiinankaupunki\n",
      "Processing Record 27 of Set 5 | pallasovka\n",
      "Processing Record 28 of Set 5 | phan rang\n",
      "City not found. Skipping...\n",
      "Processing Record 29 of Set 5 | erzin\n",
      "Processing Record 30 of Set 5 | isangel\n",
      "Processing Record 31 of Set 5 | les cayes\n",
      "Processing Record 32 of Set 5 | toliary\n",
      "City not found. Skipping...\n",
      "Processing Record 33 of Set 5 | tsihombe\n",
      "City not found. Skipping...\n",
      "Processing Record 34 of Set 5 | shimoda\n",
      "Processing Record 35 of Set 5 | rodrigues alves\n",
      "Processing Record 36 of Set 5 | coahuayana\n",
      "Processing Record 37 of Set 5 | xixiang\n",
      "Processing Record 38 of Set 5 | muros\n",
      "Processing Record 39 of Set 5 | gamba\n",
      "Processing Record 40 of Set 5 | provideniya\n",
      "Processing Record 41 of Set 5 | vostok\n",
      "Processing Record 42 of Set 5 | la libertad\n",
      "Processing Record 43 of Set 5 | lima\n",
      "Processing Record 44 of Set 5 | livny\n",
      "Processing Record 45 of Set 5 | minna\n",
      "Processing Record 46 of Set 5 | geraldton\n",
      "Processing Record 47 of Set 5 | puerto escondido\n",
      "Processing Record 48 of Set 5 | magdagachi\n",
      "Processing Record 49 of Set 5 | tateyama\n",
      "Processing Record 0 of Set 6 | akureyri\n",
      "Processing Record 1 of Set 6 | kyren\n",
      "Processing Record 2 of Set 6 | zanjan\n",
      "Processing Record 3 of Set 6 | port-gentil\n",
      "Processing Record 4 of Set 6 | viransehir\n",
      "Processing Record 5 of Set 6 | pundaguitan\n",
      "Processing Record 6 of Set 6 | souillac\n",
      "Processing Record 7 of Set 6 | atar\n",
      "Processing Record 8 of Set 6 | rzhev\n",
      "Processing Record 9 of Set 6 | dingle\n",
      "Processing Record 10 of Set 6 | sao filipe\n",
      "Processing Record 11 of Set 6 | kodiak\n",
      "Processing Record 12 of Set 6 | nivala\n",
      "Processing Record 13 of Set 6 | marystown\n",
      "Processing Record 14 of Set 6 | mentok\n",
      "City not found. Skipping...\n",
      "Processing Record 15 of Set 6 | amga\n",
      "Processing Record 16 of Set 6 | salinas\n",
      "Processing Record 17 of Set 6 | tilichiki\n",
      "Processing Record 18 of Set 6 | jardim\n",
      "Processing Record 19 of Set 6 | ambon\n",
      "Processing Record 20 of Set 6 | ostrovnoy\n",
      "Processing Record 21 of Set 6 | fare\n",
      "Processing Record 22 of Set 6 | oriximina\n",
      "Processing Record 23 of Set 6 | fairbanks\n",
      "Processing Record 24 of Set 6 | ahumada\n",
      "City not found. Skipping...\n",
      "Processing Record 25 of Set 6 | rio grande\n",
      "Processing Record 26 of Set 6 | poum\n",
      "Processing Record 27 of Set 6 | natalinsk\n",
      "Processing Record 28 of Set 6 | tarakan\n",
      "Processing Record 29 of Set 6 | nuuk\n",
      "Processing Record 30 of Set 6 | alta floresta\n",
      "Processing Record 31 of Set 6 | hanover\n",
      "Processing Record 32 of Set 6 | liaocheng\n",
      "Processing Record 33 of Set 6 | kahului\n",
      "Processing Record 34 of Set 6 | lafiagi\n",
      "Processing Record 35 of Set 6 | salta\n",
      "Processing Record 36 of Set 6 | kruisfontein\n",
      "Processing Record 37 of Set 6 | boyabat\n",
      "Processing Record 38 of Set 6 | marsa matruh\n",
      "Processing Record 39 of Set 6 | bengkulu\n",
      "Processing Record 40 of Set 6 | bethel\n",
      "Processing Record 41 of Set 6 | kavieng\n",
      "Processing Record 42 of Set 6 | touros\n",
      "Processing Record 43 of Set 6 | richards bay\n",
      "Processing Record 44 of Set 6 | naze\n",
      "Processing Record 45 of Set 6 | ulladulla\n",
      "Processing Record 46 of Set 6 | uporovo\n",
      "Processing Record 47 of Set 6 | taltal\n",
      "Processing Record 48 of Set 6 | thinadhoo\n",
      "Processing Record 49 of Set 6 | lorengau\n",
      "Processing Record 0 of Set 7 | illapel\n",
      "Processing Record 1 of Set 7 | sinjai\n",
      "Processing Record 2 of Set 7 | aleksandrov gay\n",
      "Processing Record 3 of Set 7 | east london\n",
      "Processing Record 4 of Set 7 | killybegs\n",
      "Processing Record 5 of Set 7 | palabuhanratu\n",
      "City not found. Skipping...\n",
      "Processing Record 6 of Set 7 | dabakala\n",
      "Processing Record 7 of Set 7 | shingu\n",
      "Processing Record 8 of Set 7 | panaba\n",
      "Processing Record 9 of Set 7 | hailar\n",
      "Processing Record 10 of Set 7 | ratnagiri\n",
      "Processing Record 11 of Set 7 | islamkot\n",
      "Processing Record 12 of Set 7 | dakar\n",
      "Processing Record 13 of Set 7 | proletarskiy\n",
      "Processing Record 14 of Set 7 | sedona\n",
      "Processing Record 15 of Set 7 | muravlenko\n",
      "Processing Record 16 of Set 7 | zhigansk\n",
      "Processing Record 17 of Set 7 | dekar\n",
      "Processing Record 18 of Set 7 | pak thong chai\n",
      "Processing Record 19 of Set 7 | iralaya\n",
      "Processing Record 20 of Set 7 | ouargaye\n",
      "Processing Record 21 of Set 7 | belem de sao francisco\n",
      "Processing Record 22 of Set 7 | solovetskiy\n",
      "City not found. Skipping...\n",
      "Processing Record 23 of Set 7 | san bernardo\n",
      "Processing Record 24 of Set 7 | rocha\n",
      "Processing Record 25 of Set 7 | champerico\n",
      "Processing Record 26 of Set 7 | alofi\n",
      "Processing Record 27 of Set 7 | bilibino\n",
      "Processing Record 28 of Set 7 | sombrio\n",
      "Processing Record 29 of Set 7 | tokur\n",
      "Processing Record 30 of Set 7 | fuyang\n",
      "Processing Record 31 of Set 7 | nishihara\n",
      "Processing Record 32 of Set 7 | tura\n",
      "Processing Record 33 of Set 7 | egvekinot\n",
      "Processing Record 34 of Set 7 | teixoso\n",
      "Processing Record 35 of Set 7 | roma\n",
      "Processing Record 36 of Set 7 | nyurba\n",
      "Processing Record 37 of Set 7 | yar-sale\n",
      "Processing Record 38 of Set 7 | rafai\n",
      "Processing Record 39 of Set 7 | tucumcari\n",
      "Processing Record 40 of Set 7 | lethem\n",
      "Processing Record 41 of Set 7 | mehamn\n",
      "Processing Record 42 of Set 7 | broome\n",
      "Processing Record 43 of Set 7 | vysokogornyy\n",
      "Processing Record 44 of Set 7 | saskylakh\n",
      "Processing Record 45 of Set 7 | umm lajj\n",
      "Processing Record 46 of Set 7 | tezu\n",
      "Processing Record 47 of Set 7 | skagastrond\n",
      "City not found. Skipping...\n",
      "Processing Record 48 of Set 7 | roros\n",
      "Processing Record 49 of Set 7 | eldikan\n",
      "City not found. Skipping...\n",
      "Processing Record 0 of Set 8 | naples\n",
      "Processing Record 1 of Set 8 | kompaniyivka\n",
      "Processing Record 2 of Set 8 | sulangan\n",
      "Processing Record 3 of Set 8 | puerto leguizamo\n",
      "Processing Record 4 of Set 8 | abu dhabi\n",
      "Processing Record 5 of Set 8 | soledade\n",
      "Processing Record 6 of Set 8 | barrow\n",
      "Processing Record 7 of Set 8 | gagarin\n",
      "Processing Record 8 of Set 8 | asau\n",
      "Processing Record 9 of Set 8 | sitka\n",
      "Processing Record 10 of Set 8 | kegayli\n",
      "City not found. Skipping...\n",
      "Processing Record 11 of Set 8 | maues\n",
      "Processing Record 12 of Set 8 | barbosa ferraz\n",
      "Processing Record 13 of Set 8 | esqueda\n",
      "Processing Record 14 of Set 8 | gardan diwal\n",
      "City not found. Skipping...\n",
      "Processing Record 15 of Set 8 | los llanos de aridane\n",
      "Processing Record 16 of Set 8 | dhandhuka\n",
      "Processing Record 17 of Set 8 | kalmunai\n",
      "Processing Record 18 of Set 8 | port lincoln\n",
      "Processing Record 19 of Set 8 | polunochnoye\n",
      "Processing Record 20 of Set 8 | alice springs\n",
      "Processing Record 21 of Set 8 | olafsvik\n",
      "Processing Record 22 of Set 8 | tuy hoa\n",
      "Processing Record 23 of Set 8 | la ronge\n",
      "Processing Record 24 of Set 8 | feijo\n",
      "Processing Record 25 of Set 8 | muroto\n",
      "Processing Record 26 of Set 8 | boa vista\n"
     ]
    },
    {
     "name": "stdout",
     "output_type": "stream",
     "text": [
      "Processing Record 27 of Set 8 | carnarvon\n",
      "Processing Record 28 of Set 8 | ilulissat\n",
      "Processing Record 29 of Set 8 | launceston\n",
      "Processing Record 30 of Set 8 | ankazoabo\n",
      "Processing Record 31 of Set 8 | itoman\n",
      "Processing Record 32 of Set 8 | ancud\n",
      "Processing Record 33 of Set 8 | ayan\n",
      "Processing Record 34 of Set 8 | esperance\n",
      "Processing Record 35 of Set 8 | fortuna\n",
      "Processing Record 36 of Set 8 | fort nelson\n",
      "Processing Record 37 of Set 8 | sambava\n",
      "Processing Record 38 of Set 8 | kombotion\n",
      "City not found. Skipping...\n",
      "Processing Record 39 of Set 8 | yarada\n",
      "Processing Record 40 of Set 8 | igarka\n",
      "Processing Record 41 of Set 8 | divnomorskoye\n",
      "Processing Record 42 of Set 8 | eskisehir\n",
      "Processing Record 43 of Set 8 | brae\n",
      "Processing Record 44 of Set 8 | svetlaya\n",
      "Processing Record 45 of Set 8 | carmen\n",
      "Processing Record 46 of Set 8 | halalo\n",
      "City not found. Skipping...\n",
      "Processing Record 47 of Set 8 | ust-barguzin\n",
      "Processing Record 48 of Set 8 | walvis bay\n",
      "Processing Record 49 of Set 8 | flinders\n",
      "Processing Record 0 of Set 9 | adrar\n",
      "Processing Record 1 of Set 9 | ballina\n",
      "Processing Record 2 of Set 9 | lormi\n",
      "Processing Record 3 of Set 9 | zolochiv\n",
      "Processing Record 4 of Set 9 | ginir\n",
      "Processing Record 5 of Set 9 | lata\n",
      "Processing Record 6 of Set 9 | awjilah\n",
      "Processing Record 7 of Set 9 | gushikawa\n",
      "Processing Record 8 of Set 9 | waipawa\n",
      "Processing Record 9 of Set 9 | baijiantan\n",
      "Processing Record 10 of Set 9 | masuguru\n",
      "Processing Record 11 of Set 9 | luderitz\n",
      "Processing Record 12 of Set 9 | ardmore\n",
      "Processing Record 13 of Set 9 | belaya gora\n",
      "Processing Record 14 of Set 9 | goderich\n",
      "Processing Record 15 of Set 9 | lolua\n",
      "City not found. Skipping...\n",
      "Processing Record 16 of Set 9 | sorland\n",
      "Processing Record 17 of Set 9 | selenginsk\n",
      "Processing Record 18 of Set 9 | necochea\n",
      "Processing Record 19 of Set 9 | hasaki\n",
      "Processing Record 20 of Set 9 | tres arroyos\n",
      "Processing Record 21 of Set 9 | inverell\n",
      "Processing Record 22 of Set 9 | kuito\n",
      "Processing Record 23 of Set 9 | yerbogachen\n",
      "Processing Record 24 of Set 9 | road town\n",
      "Processing Record 25 of Set 9 | saint-pierre\n",
      "Processing Record 26 of Set 9 | tual\n",
      "Processing Record 27 of Set 9 | beloha\n",
      "Processing Record 28 of Set 9 | chkalovsk\n",
      "Processing Record 29 of Set 9 | shelburne\n",
      "Processing Record 30 of Set 9 | miramar\n",
      "Processing Record 31 of Set 9 | rungata\n",
      "City not found. Skipping...\n",
      "Processing Record 32 of Set 9 | port pirie\n",
      "Processing Record 33 of Set 9 | sycow\n",
      "Processing Record 34 of Set 9 | marienburg\n",
      "Processing Record 35 of Set 9 | pasco\n",
      "Processing Record 36 of Set 9 | itarema\n",
      "Processing Record 37 of Set 9 | mayo\n",
      "Processing Record 38 of Set 9 | chapada dos guimaraes\n",
      "Processing Record 39 of Set 9 | porto nacional\n",
      "Processing Record 40 of Set 9 | sentyabrskiy\n",
      "City not found. Skipping...\n",
      "Processing Record 41 of Set 9 | chicama\n",
      "Processing Record 42 of Set 9 | leshukonskoye\n",
      "Processing Record 43 of Set 9 | saldanha\n",
      "Processing Record 44 of Set 9 | novita\n",
      "Processing Record 45 of Set 9 | bundaberg\n",
      "Processing Record 46 of Set 9 | half moon bay\n",
      "Processing Record 47 of Set 9 | tikapur\n",
      "Processing Record 48 of Set 9 | urbano santos\n",
      "Processing Record 49 of Set 9 | novoagansk\n",
      "Processing Record 0 of Set 10 | ponta delgada\n",
      "Processing Record 1 of Set 10 | kutum\n",
      "Processing Record 2 of Set 10 | namatanai\n",
      "Processing Record 3 of Set 10 | qiqihar\n",
      "Processing Record 4 of Set 10 | rawson\n",
      "Processing Record 5 of Set 10 | akdepe\n",
      "Processing Record 6 of Set 10 | taburi\n",
      "City not found. Skipping...\n",
      "Processing Record 7 of Set 10 | batagay\n",
      "Processing Record 8 of Set 10 | rotifunk\n",
      "Processing Record 9 of Set 10 | praia da vitoria\n",
      "Processing Record 10 of Set 10 | wulanhaote\n",
      "City not found. Skipping...\n",
      "Processing Record 11 of Set 10 | shawinigan\n",
      "Processing Record 12 of Set 10 | santa maria\n",
      "Processing Record 13 of Set 10 | pigai\n",
      "Processing Record 14 of Set 10 | caravelas\n",
      "Processing Record 15 of Set 10 | pasuquin\n",
      "Processing Record 16 of Set 10 | pavilosta\n",
      "Processing Record 17 of Set 10 | parana\n",
      "Processing Record 18 of Set 10 | lucapa\n",
      "Processing Record 19 of Set 10 | leningradskiy\n",
      "Processing Record 20 of Set 10 | kaitangata\n",
      "Processing Record 21 of Set 10 | kloulklubed\n",
      "Processing Record 22 of Set 10 | nouadhibou\n",
      "Processing Record 23 of Set 10 | lazaro cardenas\n",
      "Processing Record 24 of Set 10 | nacala\n",
      "Processing Record 25 of Set 10 | alindao\n",
      "Processing Record 26 of Set 10 | jacksonville\n",
      "Processing Record 27 of Set 10 | north adams\n",
      "Processing Record 28 of Set 10 | dayong\n",
      "Processing Record 29 of Set 10 | lompoc\n",
      "Processing Record 30 of Set 10 | galle\n",
      "Processing Record 31 of Set 10 | lavrentiya\n",
      "Processing Record 32 of Set 10 | haines junction\n",
      "Processing Record 33 of Set 10 | washington\n",
      "Processing Record 34 of Set 10 | roebourne\n",
      "Processing Record 35 of Set 10 | malartic\n",
      "Processing Record 36 of Set 10 | katsuura\n",
      "Processing Record 37 of Set 10 | vastervik\n",
      "City not found. Skipping...\n",
      "Processing Record 38 of Set 10 | botou\n",
      "Processing Record 39 of Set 10 | luau\n",
      "Processing Record 40 of Set 10 | kashi\n",
      "Processing Record 41 of Set 10 | san jeronimo\n",
      "Processing Record 42 of Set 10 | ternate\n",
      "Processing Record 43 of Set 10 | ambovombe\n",
      "Processing Record 44 of Set 10 | siguiri\n",
      "Processing Record 45 of Set 10 | esmeraldas\n",
      "Processing Record 46 of Set 10 | kazerun\n",
      "Processing Record 47 of Set 10 | zhurivka\n",
      "Processing Record 48 of Set 10 | grand forks\n",
      "Processing Record 49 of Set 10 | arman\n",
      "Processing Record 0 of Set 11 | kuah\n",
      "Processing Record 1 of Set 11 | teahupoo\n",
      "Processing Record 2 of Set 11 | saint-augustin\n",
      "Processing Record 3 of Set 11 | mount gambier\n",
      "Processing Record 4 of Set 11 | ampanihy\n",
      "Processing Record 5 of Set 11 | benguela\n",
      "Processing Record 6 of Set 11 | ajtos\n",
      "Processing Record 7 of Set 11 | tiznit\n",
      "Processing Record 8 of Set 11 | ciudad bolivar\n",
      "Processing Record 9 of Set 11 | hambantota\n",
      "Processing Record 10 of Set 11 | laguna\n",
      "Processing Record 11 of Set 11 | ossora\n",
      "Processing Record 12 of Set 11 | cantagallo\n",
      "Processing Record 13 of Set 11 | along\n",
      "Processing Record 14 of Set 11 | porto velho\n",
      "Processing Record 15 of Set 11 | luena\n",
      "Processing Record 16 of Set 11 | mecca\n",
      "Processing Record 17 of Set 11 | mandan\n",
      "Processing Record 18 of Set 11 | maragogi\n",
      "Processing Record 19 of Set 11 | eskasem\n",
      "City not found. Skipping...\n",
      "Processing Record 20 of Set 11 | sibiti\n",
      "Processing Record 21 of Set 11 | teguldet\n",
      "Processing Record 22 of Set 11 | orel\n",
      "Processing Record 23 of Set 11 | bilgoraj\n",
      "Processing Record 24 of Set 11 | wahpeton\n",
      "Processing Record 25 of Set 11 | aklavik\n",
      "Processing Record 26 of Set 11 | catumbela\n",
      "Processing Record 27 of Set 11 | carutapera\n",
      "Processing Record 28 of Set 11 | rincon\n",
      "Processing Record 29 of Set 11 | tak bai\n",
      "Processing Record 30 of Set 11 | beterou\n",
      "Processing Record 31 of Set 11 | taicheng\n",
      "Processing Record 32 of Set 11 | jilmah\n",
      "City not found. Skipping...\n",
      "Processing Record 33 of Set 11 | gizo\n",
      "Processing Record 34 of Set 11 | dhidhdhoo\n",
      "Processing Record 35 of Set 11 | coria\n",
      "Processing Record 36 of Set 11 | polewali\n",
      "Processing Record 37 of Set 11 | uhlove\n",
      "Processing Record 38 of Set 11 | dzhusaly\n",
      "City not found. Skipping...\n",
      "Processing Record 39 of Set 11 | omboue\n",
      "Processing Record 40 of Set 11 | san lorenzo\n",
      "Processing Record 41 of Set 11 | tawkar\n",
      "City not found. Skipping...\n",
      "Processing Record 42 of Set 11 | havelock\n",
      "Processing Record 43 of Set 11 | port blair\n",
      "Processing Record 44 of Set 11 | erenhot\n",
      "Processing Record 45 of Set 11 | san cristobal\n",
      "Processing Record 46 of Set 11 | iglesias\n",
      "Processing Record 47 of Set 11 | pisco\n",
      "Processing Record 48 of Set 11 | morro bay\n",
      "Processing Record 49 of Set 11 | axim\n",
      "Processing Record 0 of Set 12 | izhma\n",
      "Processing Record 1 of Set 12 | tumannyy\n",
      "City not found. Skipping...\n",
      "Processing Record 2 of Set 12 | northam\n",
      "Processing Record 3 of Set 12 | greymouth\n",
      "Processing Record 4 of Set 12 | urusha\n",
      "Processing Record 5 of Set 12 | brikama\n",
      "Processing Record 6 of Set 12 | neuquen\n",
      "Processing Record 7 of Set 12 | baghdad\n",
      "Processing Record 8 of Set 12 | el alto\n",
      "Processing Record 9 of Set 12 | anori\n",
      "Processing Record 10 of Set 12 | tazmalt\n",
      "Processing Record 11 of Set 12 | harqalah\n",
      "Processing Record 12 of Set 12 | gourcy\n",
      "Processing Record 13 of Set 12 | ambilobe\n",
      "Processing Record 14 of Set 12 | cabedelo\n",
      "Processing Record 15 of Set 12 | wasilla\n"
     ]
    },
    {
     "name": "stdout",
     "output_type": "stream",
     "text": [
      "Processing Record 16 of Set 12 | huarmey\n",
      "Processing Record 17 of Set 12 | bor\n",
      "Processing Record 18 of Set 12 | constitucion\n",
      "Processing Record 19 of Set 12 | doha\n",
      "Processing Record 20 of Set 12 | kleck\n",
      "City not found. Skipping...\n",
      "Processing Record 21 of Set 12 | jaypur\n",
      "Processing Record 22 of Set 12 | kudahuvadhoo\n",
      "Processing Record 23 of Set 12 | khipro\n",
      "Processing Record 24 of Set 12 | mullaitivu\n",
      "City not found. Skipping...\n",
      "Processing Record 25 of Set 12 | pangody\n",
      "Processing Record 26 of Set 12 | kargasok\n",
      "Processing Record 27 of Set 12 | acapulco\n",
      "Processing Record 28 of Set 12 | tigil\n",
      "Processing Record 29 of Set 12 | labuhan\n",
      "Processing Record 30 of Set 12 | perelyub\n",
      "Processing Record 31 of Set 12 | havre-saint-pierre\n",
      "Processing Record 32 of Set 12 | gorontalo\n",
      "Processing Record 33 of Set 12 | bowen\n",
      "Processing Record 34 of Set 12 | marfino\n",
      "Processing Record 35 of Set 12 | margate\n",
      "Processing Record 36 of Set 12 | miyoshi\n",
      "Processing Record 37 of Set 12 | kattivakkam\n",
      "Processing Record 38 of Set 12 | morden\n",
      "-----------------------------\n",
      "Data Retrieval Complete      \n",
      "-----------------------------\n"
     ]
    }
   ],
   "source": [
    "# Performing a weather check on city using a series of API calls:\n",
    "\n",
    "# Setting list for the loop call:\n",
    "city_data = []\n",
    "city_lat = []\n",
    "city_lng = []\n",
    "city_max_temp = []\n",
    "city_humidity = []\n",
    "city_clouds = []\n",
    "city_wind = []\n",
    "city_country = []\n",
    "city_date = []\n",
    "\n",
    "\n",
    "# Print to logger:\n",
    "print(\"Beginning Data Retrieval     \")\n",
    "print(\"-----------------------------\")\n",
    "\n",
    "# Creating counters for printing log:\n",
    "record_count = 1\n",
    "set_count = 1\n",
    "\n",
    "\n",
    "# Looping through all the cities in our list and performing a request:\n",
    "for i, city in enumerate(cities):\n",
    "       \n",
    "    # Create the endpoint query_url with each city:\n",
    "    city_url = query_url + city\n",
    "    \n",
    "    \n",
    "    # Grouping cities in sets of 50 for with counters we set for printing log:\n",
    "    if (i % 50 == 0 and i >= 50):\n",
    "        set_count += 1\n",
    "        record_count = 0\n",
    "        \n",
    "      \n",
    "    # Printing records with set numbers and counters:\n",
    "    print(\"Processing Record %s of Set %s | %s\" % (record_count, set_count, city))\n",
    "\n",
    "    # Adding 1 to the record count for printing:\n",
    "    record_count += 1\n",
    "\n",
    "    # Running the API request for each of the cities \n",
    "    # (Using try & except)\n",
    "    try:\n",
    "        \n",
    "        # Make request and store in json\n",
    "        response = requests.get(city_url).json()\n",
    "        \n",
    "        \n",
    "        city_data.append(response[\"name\"])\n",
    "        city_lat.append(response[\"coord\"][\"lat\"])\n",
    "        city_lng.append(response[\"coord\"][\"lon\"])\n",
    "        city_max_temp.append(response[\"main\"][\"temp_max\"])\n",
    "        city_humidity.append(response[\"main\"][\"humidity\"])\n",
    "        city_clouds.append(response[\"clouds\"][\"all\"])\n",
    "        city_wind.append(response[\"wind\"][\"speed\"])\n",
    "        city_country.append(response[\"sys\"][\"country\"])\n",
    "        city_date.append(response[\"dt\"])\n",
    "        \n",
    "        # Suspension time to prevent api from getting locked\n",
    "        time.sleep(2)\n",
    "        \n",
    "    # Handle exceptions for experienced error, skip the city:\n",
    "    except:\n",
    "        # Append null values\n",
    "        print(\"City not found. Skipping...\")\n",
    "        pass \n",
    "    \n",
    "# Include a print log of each city as it'sbeing processed (with the city number and city name)              \n",
    "# Print when data loading is complete: \n",
    "print(\"-----------------------------\")\n",
    "print(\"Data Retrieval Complete      \")\n",
    "print(\"-----------------------------\")"
   ]
  },
  {
   "cell_type": "markdown",
   "metadata": {},
   "source": [
    "### Convert Raw Data to DataFrame\n",
    "* Export the city data into a .csv.\n",
    "* Display the DataFrame"
   ]
  },
  {
   "cell_type": "code",
   "execution_count": 35,
   "metadata": {},
   "outputs": [
    {
     "data": {
      "text/plain": [
       "City          544\n",
       "Lat           544\n",
       "Lng           544\n",
       "Max Temp      544\n",
       "Humidity      544\n",
       "Cloudiness    544\n",
       "Wind Speed    544\n",
       "Country       544\n",
       "Date          544\n",
       "dtype: int64"
      ]
     },
     "execution_count": 35,
     "metadata": {},
     "output_type": "execute_result"
    }
   ],
   "source": [
    "# Creating new dataframe for cities data:\n",
    "city_data_df ={\n",
    "    \"City\": city_data, \n",
    "    \"Lat\": city_lat, \n",
    "    \"Lng\": city_lng, \n",
    "    \"Max Temp\": city_max_temp,\n",
    "    \"Humidity\": city_humidity,\n",
    "    \"Cloudiness\": city_clouds,\n",
    "    \"Wind Speed\": city_wind,\n",
    "    \"Country\": city_country,\n",
    "     \"Date\": city_date}\n",
    "\n",
    "weather_df = pd.DataFrame(city_data_df)\n",
    "weather_df.count()"
   ]
  },
  {
   "cell_type": "code",
   "execution_count": 36,
   "metadata": {},
   "outputs": [
    {
     "data": {
      "text/html": [
       "<div>\n",
       "<style scoped>\n",
       "    .dataframe tbody tr th:only-of-type {\n",
       "        vertical-align: middle;\n",
       "    }\n",
       "\n",
       "    .dataframe tbody tr th {\n",
       "        vertical-align: top;\n",
       "    }\n",
       "\n",
       "    .dataframe thead th {\n",
       "        text-align: right;\n",
       "    }\n",
       "</style>\n",
       "<table border=\"1\" class=\"dataframe\">\n",
       "  <thead>\n",
       "    <tr style=\"text-align: right;\">\n",
       "      <th></th>\n",
       "      <th>City</th>\n",
       "      <th>Lat</th>\n",
       "      <th>Lng</th>\n",
       "      <th>Max Temp</th>\n",
       "      <th>Humidity</th>\n",
       "      <th>Cloudiness</th>\n",
       "      <th>Wind Speed</th>\n",
       "      <th>Country</th>\n",
       "      <th>Date</th>\n",
       "    </tr>\n",
       "  </thead>\n",
       "  <tbody>\n",
       "    <tr>\n",
       "      <th>0</th>\n",
       "      <td>George Town</td>\n",
       "      <td>5.41</td>\n",
       "      <td>100.34</td>\n",
       "      <td>84.20</td>\n",
       "      <td>78</td>\n",
       "      <td>40</td>\n",
       "      <td>10.42</td>\n",
       "      <td>MY</td>\n",
       "      <td>1603594024</td>\n",
       "    </tr>\n",
       "    <tr>\n",
       "      <th>1</th>\n",
       "      <td>Japura</td>\n",
       "      <td>-0.32</td>\n",
       "      <td>102.35</td>\n",
       "      <td>80.19</td>\n",
       "      <td>80</td>\n",
       "      <td>99</td>\n",
       "      <td>1.34</td>\n",
       "      <td>ID</td>\n",
       "      <td>1603593839</td>\n",
       "    </tr>\n",
       "    <tr>\n",
       "      <th>2</th>\n",
       "      <td>Mahébourg</td>\n",
       "      <td>-20.41</td>\n",
       "      <td>57.70</td>\n",
       "      <td>69.80</td>\n",
       "      <td>88</td>\n",
       "      <td>75</td>\n",
       "      <td>12.75</td>\n",
       "      <td>MU</td>\n",
       "      <td>1603593918</td>\n",
       "    </tr>\n",
       "    <tr>\n",
       "      <th>3</th>\n",
       "      <td>Vaini</td>\n",
       "      <td>-21.20</td>\n",
       "      <td>-175.20</td>\n",
       "      <td>73.40</td>\n",
       "      <td>88</td>\n",
       "      <td>75</td>\n",
       "      <td>12.75</td>\n",
       "      <td>TO</td>\n",
       "      <td>1603594047</td>\n",
       "    </tr>\n",
       "    <tr>\n",
       "      <th>4</th>\n",
       "      <td>Busselton</td>\n",
       "      <td>-33.65</td>\n",
       "      <td>115.33</td>\n",
       "      <td>82.00</td>\n",
       "      <td>29</td>\n",
       "      <td>74</td>\n",
       "      <td>7.20</td>\n",
       "      <td>AU</td>\n",
       "      <td>1603593921</td>\n",
       "    </tr>\n",
       "  </tbody>\n",
       "</table>\n",
       "</div>"
      ],
      "text/plain": [
       "          City    Lat     Lng  Max Temp  Humidity  Cloudiness  Wind Speed  \\\n",
       "0  George Town   5.41  100.34     84.20        78          40       10.42   \n",
       "1       Japura  -0.32  102.35     80.19        80          99        1.34   \n",
       "2    Mahébourg -20.41   57.70     69.80        88          75       12.75   \n",
       "3        Vaini -21.20 -175.20     73.40        88          75       12.75   \n",
       "4    Busselton -33.65  115.33     82.00        29          74        7.20   \n",
       "\n",
       "  Country        Date  \n",
       "0      MY  1603594024  \n",
       "1      ID  1603593839  \n",
       "2      MU  1603593918  \n",
       "3      TO  1603594047  \n",
       "4      AU  1603593921  "
      ]
     },
     "execution_count": 36,
     "metadata": {},
     "output_type": "execute_result"
    }
   ],
   "source": [
    "weather_df.head()"
   ]
  },
  {
   "cell_type": "code",
   "execution_count": 37,
   "metadata": {},
   "outputs": [],
   "source": [
    "# Exporting the city data to .csv file:\n",
    "\n",
    "weather_df.to_csv(\"../output_data/city_weather.csv\", index=False, header=True)"
   ]
  },
  {
   "cell_type": "code",
   "execution_count": 38,
   "metadata": {},
   "outputs": [
    {
     "data": {
      "text/html": [
       "<div>\n",
       "<style scoped>\n",
       "    .dataframe tbody tr th:only-of-type {\n",
       "        vertical-align: middle;\n",
       "    }\n",
       "\n",
       "    .dataframe tbody tr th {\n",
       "        vertical-align: top;\n",
       "    }\n",
       "\n",
       "    .dataframe thead th {\n",
       "        text-align: right;\n",
       "    }\n",
       "</style>\n",
       "<table border=\"1\" class=\"dataframe\">\n",
       "  <thead>\n",
       "    <tr style=\"text-align: right;\">\n",
       "      <th></th>\n",
       "      <th>Lat</th>\n",
       "      <th>Lng</th>\n",
       "      <th>Max Temp</th>\n",
       "      <th>Humidity</th>\n",
       "      <th>Cloudiness</th>\n",
       "      <th>Wind Speed</th>\n",
       "      <th>Date</th>\n",
       "    </tr>\n",
       "  </thead>\n",
       "  <tbody>\n",
       "    <tr>\n",
       "      <th>count</th>\n",
       "      <td>544.000000</td>\n",
       "      <td>544.000000</td>\n",
       "      <td>544.000000</td>\n",
       "      <td>544.000000</td>\n",
       "      <td>544.000000</td>\n",
       "      <td>544.000000</td>\n",
       "      <td>5.440000e+02</td>\n",
       "    </tr>\n",
       "    <tr>\n",
       "      <th>mean</th>\n",
       "      <td>18.979761</td>\n",
       "      <td>18.689375</td>\n",
       "      <td>59.760257</td>\n",
       "      <td>74.617647</td>\n",
       "      <td>54.408088</td>\n",
       "      <td>7.519559</td>\n",
       "      <td>1.603595e+09</td>\n",
       "    </tr>\n",
       "    <tr>\n",
       "      <th>std</th>\n",
       "      <td>33.585108</td>\n",
       "      <td>88.811725</td>\n",
       "      <td>19.911257</td>\n",
       "      <td>19.593872</td>\n",
       "      <td>38.913688</td>\n",
       "      <td>5.366427</td>\n",
       "      <td>3.499479e+02</td>\n",
       "    </tr>\n",
       "    <tr>\n",
       "      <th>min</th>\n",
       "      <td>-54.800000</td>\n",
       "      <td>-179.170000</td>\n",
       "      <td>7.230000</td>\n",
       "      <td>13.000000</td>\n",
       "      <td>0.000000</td>\n",
       "      <td>0.000000</td>\n",
       "      <td>1.603594e+09</td>\n",
       "    </tr>\n",
       "    <tr>\n",
       "      <th>25%</th>\n",
       "      <td>-8.950000</td>\n",
       "      <td>-58.935000</td>\n",
       "      <td>46.000000</td>\n",
       "      <td>64.000000</td>\n",
       "      <td>13.750000</td>\n",
       "      <td>3.360000</td>\n",
       "      <td>1.603594e+09</td>\n",
       "    </tr>\n",
       "    <tr>\n",
       "      <th>50%</th>\n",
       "      <td>22.785000</td>\n",
       "      <td>22.495000</td>\n",
       "      <td>63.850000</td>\n",
       "      <td>80.000000</td>\n",
       "      <td>66.500000</td>\n",
       "      <td>6.150000</td>\n",
       "      <td>1.603595e+09</td>\n",
       "    </tr>\n",
       "    <tr>\n",
       "      <th>75%</th>\n",
       "      <td>47.737500</td>\n",
       "      <td>95.120000</td>\n",
       "      <td>75.990000</td>\n",
       "      <td>90.000000</td>\n",
       "      <td>91.250000</td>\n",
       "      <td>10.275000</td>\n",
       "      <td>1.603595e+09</td>\n",
       "    </tr>\n",
       "    <tr>\n",
       "      <th>max</th>\n",
       "      <td>78.220000</td>\n",
       "      <td>178.420000</td>\n",
       "      <td>98.600000</td>\n",
       "      <td>100.000000</td>\n",
       "      <td>100.000000</td>\n",
       "      <td>38.160000</td>\n",
       "      <td>1.603595e+09</td>\n",
       "    </tr>\n",
       "  </tbody>\n",
       "</table>\n",
       "</div>"
      ],
      "text/plain": [
       "              Lat         Lng    Max Temp    Humidity  Cloudiness  Wind Speed  \\\n",
       "count  544.000000  544.000000  544.000000  544.000000  544.000000  544.000000   \n",
       "mean    18.979761   18.689375   59.760257   74.617647   54.408088    7.519559   \n",
       "std     33.585108   88.811725   19.911257   19.593872   38.913688    5.366427   \n",
       "min    -54.800000 -179.170000    7.230000   13.000000    0.000000    0.000000   \n",
       "25%     -8.950000  -58.935000   46.000000   64.000000   13.750000    3.360000   \n",
       "50%     22.785000   22.495000   63.850000   80.000000   66.500000    6.150000   \n",
       "75%     47.737500   95.120000   75.990000   90.000000   91.250000   10.275000   \n",
       "max     78.220000  178.420000   98.600000  100.000000  100.000000   38.160000   \n",
       "\n",
       "               Date  \n",
       "count  5.440000e+02  \n",
       "mean   1.603595e+09  \n",
       "std    3.499479e+02  \n",
       "min    1.603594e+09  \n",
       "25%    1.603594e+09  \n",
       "50%    1.603595e+09  \n",
       "75%    1.603595e+09  \n",
       "max    1.603595e+09  "
      ]
     },
     "execution_count": 38,
     "metadata": {},
     "output_type": "execute_result"
    }
   ],
   "source": [
    "weather_df.describe()"
   ]
  },
  {
   "cell_type": "markdown",
   "metadata": {},
   "source": [
    "## Inspect the data and remove the cities where the humidity > 100%.\n",
    "----\n",
    "Skip this step if there are no cities that have humidity > 100%. "
   ]
  },
  {
   "cell_type": "code",
   "execution_count": 39,
   "metadata": {},
   "outputs": [
    {
     "data": {
      "text/html": [
       "<div>\n",
       "<style scoped>\n",
       "    .dataframe tbody tr th:only-of-type {\n",
       "        vertical-align: middle;\n",
       "    }\n",
       "\n",
       "    .dataframe tbody tr th {\n",
       "        vertical-align: top;\n",
       "    }\n",
       "\n",
       "    .dataframe thead th {\n",
       "        text-align: right;\n",
       "    }\n",
       "</style>\n",
       "<table border=\"1\" class=\"dataframe\">\n",
       "  <thead>\n",
       "    <tr style=\"text-align: right;\">\n",
       "      <th></th>\n",
       "      <th>City</th>\n",
       "      <th>Lat</th>\n",
       "      <th>Lng</th>\n",
       "      <th>Max Temp</th>\n",
       "      <th>Humidity</th>\n",
       "      <th>Cloudiness</th>\n",
       "      <th>Wind Speed</th>\n",
       "      <th>Country</th>\n",
       "      <th>Date</th>\n",
       "    </tr>\n",
       "  </thead>\n",
       "  <tbody>\n",
       "    <tr>\n",
       "      <th>0</th>\n",
       "      <td>George Town</td>\n",
       "      <td>5.41</td>\n",
       "      <td>100.34</td>\n",
       "      <td>84.20</td>\n",
       "      <td>78</td>\n",
       "      <td>40</td>\n",
       "      <td>10.42</td>\n",
       "      <td>MY</td>\n",
       "      <td>1603594024</td>\n",
       "    </tr>\n",
       "    <tr>\n",
       "      <th>1</th>\n",
       "      <td>Japura</td>\n",
       "      <td>-0.32</td>\n",
       "      <td>102.35</td>\n",
       "      <td>80.19</td>\n",
       "      <td>80</td>\n",
       "      <td>99</td>\n",
       "      <td>1.34</td>\n",
       "      <td>ID</td>\n",
       "      <td>1603593839</td>\n",
       "    </tr>\n",
       "    <tr>\n",
       "      <th>2</th>\n",
       "      <td>Mahébourg</td>\n",
       "      <td>-20.41</td>\n",
       "      <td>57.70</td>\n",
       "      <td>69.80</td>\n",
       "      <td>88</td>\n",
       "      <td>75</td>\n",
       "      <td>12.75</td>\n",
       "      <td>MU</td>\n",
       "      <td>1603593918</td>\n",
       "    </tr>\n",
       "    <tr>\n",
       "      <th>3</th>\n",
       "      <td>Vaini</td>\n",
       "      <td>-21.20</td>\n",
       "      <td>-175.20</td>\n",
       "      <td>73.40</td>\n",
       "      <td>88</td>\n",
       "      <td>75</td>\n",
       "      <td>12.75</td>\n",
       "      <td>TO</td>\n",
       "      <td>1603594047</td>\n",
       "    </tr>\n",
       "    <tr>\n",
       "      <th>4</th>\n",
       "      <td>Busselton</td>\n",
       "      <td>-33.65</td>\n",
       "      <td>115.33</td>\n",
       "      <td>82.00</td>\n",
       "      <td>29</td>\n",
       "      <td>74</td>\n",
       "      <td>7.20</td>\n",
       "      <td>AU</td>\n",
       "      <td>1603593921</td>\n",
       "    </tr>\n",
       "  </tbody>\n",
       "</table>\n",
       "</div>"
      ],
      "text/plain": [
       "          City    Lat     Lng  Max Temp  Humidity  Cloudiness  Wind Speed  \\\n",
       "0  George Town   5.41  100.34     84.20        78          40       10.42   \n",
       "1       Japura  -0.32  102.35     80.19        80          99        1.34   \n",
       "2    Mahébourg -20.41   57.70     69.80        88          75       12.75   \n",
       "3        Vaini -21.20 -175.20     73.40        88          75       12.75   \n",
       "4    Busselton -33.65  115.33     82.00        29          74        7.20   \n",
       "\n",
       "  Country        Date  \n",
       "0      MY  1603594024  \n",
       "1      ID  1603593839  \n",
       "2      MU  1603593918  \n",
       "3      TO  1603594047  \n",
       "4      AU  1603593921  "
      ]
     },
     "execution_count": 39,
     "metadata": {},
     "output_type": "execute_result"
    }
   ],
   "source": [
    "weather_df.head()"
   ]
  },
  {
   "cell_type": "code",
   "execution_count": 40,
   "metadata": {},
   "outputs": [
    {
     "data": {
      "text/plain": [
       "19"
      ]
     },
     "execution_count": 40,
     "metadata": {},
     "output_type": "execute_result"
    }
   ],
   "source": [
    "# Inspecting the data for cities where the humidity > 100%: \n",
    "\n",
    "weather_df.loc[weather_df[\"Humidity\"] >= 100][\"Humidity\"].count()"
   ]
  },
  {
   "cell_type": "code",
   "execution_count": 41,
   "metadata": {},
   "outputs": [],
   "source": [
    "# Filtered data by humidity:\n",
    "filtered_df = weather_df.loc[weather_df['Humidity'] < 100]"
   ]
  },
  {
   "cell_type": "code",
   "execution_count": 42,
   "metadata": {},
   "outputs": [
    {
     "data": {
      "text/plain": [
       "525"
      ]
     },
     "execution_count": 42,
     "metadata": {},
     "output_type": "execute_result"
    }
   ],
   "source": [
    "len(filtered_df)"
   ]
  },
  {
   "cell_type": "code",
   "execution_count": 43,
   "metadata": {},
   "outputs": [
    {
     "data": {
      "text/plain": [
       "544"
      ]
     },
     "execution_count": 43,
     "metadata": {},
     "output_type": "execute_result"
    }
   ],
   "source": [
    "# Checking the weather_df and comparing it to the filtered_df:\n",
    "len(weather_df)"
   ]
  },
  {
   "cell_type": "code",
   "execution_count": 44,
   "metadata": {},
   "outputs": [
    {
     "data": {
      "text/html": [
       "<div>\n",
       "<style scoped>\n",
       "    .dataframe tbody tr th:only-of-type {\n",
       "        vertical-align: middle;\n",
       "    }\n",
       "\n",
       "    .dataframe tbody tr th {\n",
       "        vertical-align: top;\n",
       "    }\n",
       "\n",
       "    .dataframe thead th {\n",
       "        text-align: right;\n",
       "    }\n",
       "</style>\n",
       "<table border=\"1\" class=\"dataframe\">\n",
       "  <thead>\n",
       "    <tr style=\"text-align: right;\">\n",
       "      <th></th>\n",
       "      <th>Lat</th>\n",
       "      <th>Lng</th>\n",
       "      <th>Max Temp</th>\n",
       "      <th>Humidity</th>\n",
       "      <th>Cloudiness</th>\n",
       "      <th>Wind Speed</th>\n",
       "      <th>Date</th>\n",
       "    </tr>\n",
       "  </thead>\n",
       "  <tbody>\n",
       "    <tr>\n",
       "      <th>count</th>\n",
       "      <td>525.000000</td>\n",
       "      <td>525.000000</td>\n",
       "      <td>525.000000</td>\n",
       "      <td>525.000000</td>\n",
       "      <td>525.000000</td>\n",
       "      <td>525.000000</td>\n",
       "      <td>5.250000e+02</td>\n",
       "    </tr>\n",
       "    <tr>\n",
       "      <th>mean</th>\n",
       "      <td>18.826514</td>\n",
       "      <td>19.454457</td>\n",
       "      <td>60.088076</td>\n",
       "      <td>73.699048</td>\n",
       "      <td>53.914286</td>\n",
       "      <td>7.601619</td>\n",
       "      <td>1.603595e+09</td>\n",
       "    </tr>\n",
       "    <tr>\n",
       "      <th>std</th>\n",
       "      <td>33.432079</td>\n",
       "      <td>89.729954</td>\n",
       "      <td>19.967161</td>\n",
       "      <td>19.329626</td>\n",
       "      <td>38.958070</td>\n",
       "      <td>5.385958</td>\n",
       "      <td>3.483829e+02</td>\n",
       "    </tr>\n",
       "    <tr>\n",
       "      <th>min</th>\n",
       "      <td>-54.800000</td>\n",
       "      <td>-179.170000</td>\n",
       "      <td>7.230000</td>\n",
       "      <td>13.000000</td>\n",
       "      <td>0.000000</td>\n",
       "      <td>0.000000</td>\n",
       "      <td>1.603594e+09</td>\n",
       "    </tr>\n",
       "    <tr>\n",
       "      <th>25%</th>\n",
       "      <td>-9.010000</td>\n",
       "      <td>-59.800000</td>\n",
       "      <td>46.400000</td>\n",
       "      <td>63.000000</td>\n",
       "      <td>13.000000</td>\n",
       "      <td>3.400000</td>\n",
       "      <td>1.603594e+09</td>\n",
       "    </tr>\n",
       "    <tr>\n",
       "      <th>50%</th>\n",
       "      <td>22.290000</td>\n",
       "      <td>24.070000</td>\n",
       "      <td>64.400000</td>\n",
       "      <td>79.000000</td>\n",
       "      <td>63.000000</td>\n",
       "      <td>6.240000</td>\n",
       "      <td>1.603595e+09</td>\n",
       "    </tr>\n",
       "    <tr>\n",
       "      <th>75%</th>\n",
       "      <td>47.340000</td>\n",
       "      <td>99.840000</td>\n",
       "      <td>76.170000</td>\n",
       "      <td>88.000000</td>\n",
       "      <td>91.000000</td>\n",
       "      <td>10.290000</td>\n",
       "      <td>1.603595e+09</td>\n",
       "    </tr>\n",
       "    <tr>\n",
       "      <th>max</th>\n",
       "      <td>78.220000</td>\n",
       "      <td>178.420000</td>\n",
       "      <td>98.600000</td>\n",
       "      <td>99.000000</td>\n",
       "      <td>100.000000</td>\n",
       "      <td>38.160000</td>\n",
       "      <td>1.603595e+09</td>\n",
       "    </tr>\n",
       "  </tbody>\n",
       "</table>\n",
       "</div>"
      ],
      "text/plain": [
       "              Lat         Lng    Max Temp    Humidity  Cloudiness  Wind Speed  \\\n",
       "count  525.000000  525.000000  525.000000  525.000000  525.000000  525.000000   \n",
       "mean    18.826514   19.454457   60.088076   73.699048   53.914286    7.601619   \n",
       "std     33.432079   89.729954   19.967161   19.329626   38.958070    5.385958   \n",
       "min    -54.800000 -179.170000    7.230000   13.000000    0.000000    0.000000   \n",
       "25%     -9.010000  -59.800000   46.400000   63.000000   13.000000    3.400000   \n",
       "50%     22.290000   24.070000   64.400000   79.000000   63.000000    6.240000   \n",
       "75%     47.340000   99.840000   76.170000   88.000000   91.000000   10.290000   \n",
       "max     78.220000  178.420000   98.600000   99.000000  100.000000   38.160000   \n",
       "\n",
       "               Date  \n",
       "count  5.250000e+02  \n",
       "mean   1.603595e+09  \n",
       "std    3.483829e+02  \n",
       "min    1.603594e+09  \n",
       "25%    1.603594e+09  \n",
       "50%    1.603595e+09  \n",
       "75%    1.603595e+09  \n",
       "max    1.603595e+09  "
      ]
     },
     "execution_count": 44,
     "metadata": {},
     "output_type": "execute_result"
    }
   ],
   "source": [
    "filtered_df.describe()"
   ]
  },
  {
   "cell_type": "code",
   "execution_count": 45,
   "metadata": {},
   "outputs": [
    {
     "data": {
      "text/plain": [
       "Int64Index([], dtype='int64')"
      ]
     },
     "execution_count": 45,
     "metadata": {},
     "output_type": "execute_result"
    }
   ],
   "source": [
    "#  Get the indices of cities that have humidity over 100%.\n",
    "over_100 = weather_df[weather_df.Humidity > 100].index\n",
    "over_100"
   ]
  },
  {
   "cell_type": "code",
   "execution_count": 46,
   "metadata": {},
   "outputs": [
    {
     "data": {
      "text/html": [
       "<div>\n",
       "<style scoped>\n",
       "    .dataframe tbody tr th:only-of-type {\n",
       "        vertical-align: middle;\n",
       "    }\n",
       "\n",
       "    .dataframe tbody tr th {\n",
       "        vertical-align: top;\n",
       "    }\n",
       "\n",
       "    .dataframe thead th {\n",
       "        text-align: right;\n",
       "    }\n",
       "</style>\n",
       "<table border=\"1\" class=\"dataframe\">\n",
       "  <thead>\n",
       "    <tr style=\"text-align: right;\">\n",
       "      <th></th>\n",
       "      <th>City</th>\n",
       "      <th>Lat</th>\n",
       "      <th>Lng</th>\n",
       "      <th>Max Temp</th>\n",
       "      <th>Humidity</th>\n",
       "      <th>Cloudiness</th>\n",
       "      <th>Wind Speed</th>\n",
       "      <th>Country</th>\n",
       "      <th>Date</th>\n",
       "    </tr>\n",
       "  </thead>\n",
       "  <tbody>\n",
       "    <tr>\n",
       "      <th>0</th>\n",
       "      <td>George Town</td>\n",
       "      <td>5.41</td>\n",
       "      <td>100.34</td>\n",
       "      <td>84.20</td>\n",
       "      <td>78</td>\n",
       "      <td>40</td>\n",
       "      <td>10.42</td>\n",
       "      <td>MY</td>\n",
       "      <td>1603594024</td>\n",
       "    </tr>\n",
       "    <tr>\n",
       "      <th>1</th>\n",
       "      <td>Japura</td>\n",
       "      <td>-0.32</td>\n",
       "      <td>102.35</td>\n",
       "      <td>80.19</td>\n",
       "      <td>80</td>\n",
       "      <td>99</td>\n",
       "      <td>1.34</td>\n",
       "      <td>ID</td>\n",
       "      <td>1603593839</td>\n",
       "    </tr>\n",
       "    <tr>\n",
       "      <th>2</th>\n",
       "      <td>Mahébourg</td>\n",
       "      <td>-20.41</td>\n",
       "      <td>57.70</td>\n",
       "      <td>69.80</td>\n",
       "      <td>88</td>\n",
       "      <td>75</td>\n",
       "      <td>12.75</td>\n",
       "      <td>MU</td>\n",
       "      <td>1603593918</td>\n",
       "    </tr>\n",
       "    <tr>\n",
       "      <th>3</th>\n",
       "      <td>Vaini</td>\n",
       "      <td>-21.20</td>\n",
       "      <td>-175.20</td>\n",
       "      <td>73.40</td>\n",
       "      <td>88</td>\n",
       "      <td>75</td>\n",
       "      <td>12.75</td>\n",
       "      <td>TO</td>\n",
       "      <td>1603594047</td>\n",
       "    </tr>\n",
       "    <tr>\n",
       "      <th>4</th>\n",
       "      <td>Busselton</td>\n",
       "      <td>-33.65</td>\n",
       "      <td>115.33</td>\n",
       "      <td>82.00</td>\n",
       "      <td>29</td>\n",
       "      <td>74</td>\n",
       "      <td>7.20</td>\n",
       "      <td>AU</td>\n",
       "      <td>1603593921</td>\n",
       "    </tr>\n",
       "    <tr>\n",
       "      <th>...</th>\n",
       "      <td>...</td>\n",
       "      <td>...</td>\n",
       "      <td>...</td>\n",
       "      <td>...</td>\n",
       "      <td>...</td>\n",
       "      <td>...</td>\n",
       "      <td>...</td>\n",
       "      <td>...</td>\n",
       "      <td>...</td>\n",
       "    </tr>\n",
       "    <tr>\n",
       "      <th>539</th>\n",
       "      <td>Marfino</td>\n",
       "      <td>55.70</td>\n",
       "      <td>37.38</td>\n",
       "      <td>44.01</td>\n",
       "      <td>80</td>\n",
       "      <td>40</td>\n",
       "      <td>8.95</td>\n",
       "      <td>RU</td>\n",
       "      <td>1603595204</td>\n",
       "    </tr>\n",
       "    <tr>\n",
       "      <th>540</th>\n",
       "      <td>Margate</td>\n",
       "      <td>51.38</td>\n",
       "      <td>1.39</td>\n",
       "      <td>54.00</td>\n",
       "      <td>91</td>\n",
       "      <td>100</td>\n",
       "      <td>3.00</td>\n",
       "      <td>GB</td>\n",
       "      <td>1603595113</td>\n",
       "    </tr>\n",
       "    <tr>\n",
       "      <th>541</th>\n",
       "      <td>Miyoshi City</td>\n",
       "      <td>35.08</td>\n",
       "      <td>137.07</td>\n",
       "      <td>70.00</td>\n",
       "      <td>52</td>\n",
       "      <td>75</td>\n",
       "      <td>12.75</td>\n",
       "      <td>JP</td>\n",
       "      <td>1603595208</td>\n",
       "    </tr>\n",
       "    <tr>\n",
       "      <th>542</th>\n",
       "      <td>Kattivākkam</td>\n",
       "      <td>13.22</td>\n",
       "      <td>80.32</td>\n",
       "      <td>84.20</td>\n",
       "      <td>83</td>\n",
       "      <td>40</td>\n",
       "      <td>2.24</td>\n",
       "      <td>IN</td>\n",
       "      <td>1603595211</td>\n",
       "    </tr>\n",
       "    <tr>\n",
       "      <th>543</th>\n",
       "      <td>Morden</td>\n",
       "      <td>49.19</td>\n",
       "      <td>-98.10</td>\n",
       "      <td>24.80</td>\n",
       "      <td>68</td>\n",
       "      <td>90</td>\n",
       "      <td>4.70</td>\n",
       "      <td>CA</td>\n",
       "      <td>1603595213</td>\n",
       "    </tr>\n",
       "  </tbody>\n",
       "</table>\n",
       "<p>544 rows × 9 columns</p>\n",
       "</div>"
      ],
      "text/plain": [
       "             City    Lat     Lng  Max Temp  Humidity  Cloudiness  Wind Speed  \\\n",
       "0     George Town   5.41  100.34     84.20        78          40       10.42   \n",
       "1          Japura  -0.32  102.35     80.19        80          99        1.34   \n",
       "2       Mahébourg -20.41   57.70     69.80        88          75       12.75   \n",
       "3           Vaini -21.20 -175.20     73.40        88          75       12.75   \n",
       "4       Busselton -33.65  115.33     82.00        29          74        7.20   \n",
       "..            ...    ...     ...       ...       ...         ...         ...   \n",
       "539       Marfino  55.70   37.38     44.01        80          40        8.95   \n",
       "540       Margate  51.38    1.39     54.00        91         100        3.00   \n",
       "541  Miyoshi City  35.08  137.07     70.00        52          75       12.75   \n",
       "542   Kattivākkam  13.22   80.32     84.20        83          40        2.24   \n",
       "543        Morden  49.19  -98.10     24.80        68          90        4.70   \n",
       "\n",
       "    Country        Date  \n",
       "0        MY  1603594024  \n",
       "1        ID  1603593839  \n",
       "2        MU  1603593918  \n",
       "3        TO  1603594047  \n",
       "4        AU  1603593921  \n",
       "..      ...         ...  \n",
       "539      RU  1603595204  \n",
       "540      GB  1603595113  \n",
       "541      JP  1603595208  \n",
       "542      IN  1603595211  \n",
       "543      CA  1603595213  \n",
       "\n",
       "[544 rows x 9 columns]"
      ]
     },
     "execution_count": 46,
     "metadata": {},
     "output_type": "execute_result"
    }
   ],
   "source": [
    "# Make a new DataFrame equal to the city data to drop all humidity outliers by index.\n",
    "# Passing \"inplace=False\" will make a copy of the city_data DataFrame, which we call \"clean_city_data\".\n",
    "clean_city_data = weather_df\n",
    "for x in over_100:\n",
    "    clean_city_data = weather_df.drop([x])\n",
    "clean_city_data    "
   ]
  },
  {
   "cell_type": "code",
   "execution_count": 47,
   "metadata": {},
   "outputs": [],
   "source": [
    "# Extract relevant fields from the cleaned dataframe\n",
    "lat = clean_city_data .Lat\n",
    "max_temp = clean_city_data [\"Max Temp\"]\n",
    "humid = clean_city_data.Humidity\n",
    "cloud = clean_city_data.Cloudiness\n",
    "wind = clean_city_data['Wind Speed']\n",
    "\n",
    "# Export the clean_city_data into a csv:\n",
    "clean_city_data.to_csv(\"../output_data/clean_city_data.csv\", index=False, header=True)"
   ]
  },
  {
   "cell_type": "markdown",
   "metadata": {},
   "source": [
    "## Plotting the Data\n",
    "* Use proper labeling of the plots using plot titles (including date of analysis) and axes labels.\n",
    "* Save the plotted figures as .pngs."
   ]
  },
  {
   "cell_type": "markdown",
   "metadata": {},
   "source": [
    "## Latitude vs. Temperature Plot"
   ]
  },
  {
   "cell_type": "code",
   "execution_count": 48,
   "metadata": {
    "scrolled": true
   },
   "outputs": [
    {
     "data": {
      "image/png": "[encoded data removed]",
      "text/plain": [
       "<Figure size 432x288 with 1 Axes>"
      ]
     },
     "metadata": {
      "needs_background": "light"
     },
     "output_type": "display_data"
    }
   ],
   "source": [
    "# Plot 1: Latitude vs. Temperature Plot\n",
    "x_values = lat\n",
    "y_values = max_temp\n",
    "\n",
    "plt.scatter(x_values,y_values, marker = \"o\", facecolor = \"steelblue\", edgecolor=\"black\")\n",
    "\n",
    "plt.xlabel('Latitude')\n",
    "plt.ylabel('Max Temprature (F)')\n",
    "plt.title(\"City Latitude vs. Max Temperature (%s)\" % time.strftime(\"%x\"))\n",
    "plt.grid()\n",
    "plt.savefig(\"../Images/lat_vs_temp.png\")\n",
    "plt.show()"
   ]
  },
  {
   "cell_type": "markdown",
   "metadata": {},
   "source": [
    "## Latitude vs. Humidity Plot"
   ]
  },
  {
   "cell_type": "code",
   "execution_count": 49,
   "metadata": {},
   "outputs": [
    {
     "data": {
      "image/png": "[encoded data removed]",
      "text/plain": [
       "<Figure size 432x288 with 1 Axes>"
      ]
     },
     "metadata": {
      "needs_background": "light"
     },
     "output_type": "display_data"
    }
   ],
   "source": [
    "# Plot 2: Latitude vs. Humidity Plot\n",
    "x_values = lat\n",
    "y_values = humid\n",
    "\n",
    "plt.scatter(x_values,y_values, marker = \"o\", facecolor = \"steelblue\", edgecolor=\"black\")\n",
    "\n",
    "plt.xlabel('Latitude')\n",
    "plt.ylabel('Humidity (%)')\n",
    "plt.title(\"City Latitude vs. Humidity (%s)\" % time.strftime(\"%x\"))\n",
    "plt.grid()\n",
    "plt.savefig(\"../Images/lat_vs_humid.png\")\n",
    "plt.show()"
   ]
  },
  {
   "cell_type": "markdown",
   "metadata": {},
   "source": [
    "## Latitude vs. Cloudiness Plot"
   ]
  },
  {
   "cell_type": "code",
   "execution_count": 50,
   "metadata": {},
   "outputs": [
    {
     "data": {
      "image/png": "[encoded data removed]",
      "text/plain": [
       "<Figure size 432x288 with 1 Axes>"
      ]
     },
     "metadata": {
      "needs_background": "light"
     },
     "output_type": "display_data"
    }
   ],
   "source": [
    "# Plot 3: Latitude vs. Cloudiness Plot\n",
    "x_values = lat\n",
    "y_values = cloud\n",
    "\n",
    "plt.scatter(x_values,y_values, marker = \"o\", facecolor = \"steelblue\", edgecolor=\"black\")\n",
    "\n",
    "plt.xlabel('Latitude')\n",
    "plt.ylabel('Cloudiness (%)')\n",
    "plt.title(\"City Latitude vs. Cloudiness (%s)\" % time.strftime(\"%x\"))\n",
    "plt.grid()\n",
    "plt.savefig(\"../Images/lat_vs_cloud.png\")\n",
    "plt.show()"
   ]
  },
  {
   "cell_type": "markdown",
   "metadata": {},
   "source": [
    "## Latitude vs. Wind Speed Plot"
   ]
  },
  {
   "cell_type": "code",
   "execution_count": 51,
   "metadata": {},
   "outputs": [
    {
     "data": {
      "image/png": "[encoded data removed]",
      "text/plain": [
       "<Figure size 432x288 with 1 Axes>"
      ]
     },
     "metadata": {
      "needs_background": "light"
     },
     "output_type": "display_data"
    }
   ],
   "source": [
    "# Plot 4: Latitude vs. Wind Speed Plot\n",
    "x_values = lat\n",
    "y_values = wind\n",
    "\n",
    "plt.scatter(x_values,y_values, marker = \"o\", facecolor = \"steelblue\", edgecolor=\"black\")\n",
    "\n",
    "plt.xlabel('Latitude')\n",
    "plt.ylabel('Wind Speed (mph)')\n",
    "plt.title(\"City Latitude vs. Wind Speed (%s)\" % time.strftime(\"%x\"))\n",
    "plt.grid()\n",
    "plt.savefig(\"../Images/lat_vs_wind.png\")\n",
    "plt.show()"
   ]
  },
  {
   "cell_type": "markdown",
   "metadata": {},
   "source": [
    "## Linear Regression"
   ]
  },
  {
   "cell_type": "code",
   "execution_count": 52,
   "metadata": {},
   "outputs": [],
   "source": [
    "# Creating northern and southern hemisphere dataframe for linear regression:\n",
    "\n",
    "north_hemisphere = clean_city_data.loc[clean_city_data[\"Lat\"] >= 0]\n",
    "south_hemisphere = clean_city_data.loc[clean_city_data[\"Lat\"] < 0]"
   ]
  },
  {
   "cell_type": "markdown",
   "metadata": {},
   "source": [
    "####  Northern Hemisphere - Max Temp vs. Latitude Linear Regression"
   ]
  },
  {
   "cell_type": "code",
   "execution_count": 53,
   "metadata": {},
   "outputs": [
    {
     "name": "stdout",
     "output_type": "stream",
     "text": [
      "The p-value is: 2.523328067672281e-130\n",
      "The r-value is: -0.8988602588394674\n"
     ]
    },
    {
     "data": {
      "image/png": "[encoded data removed]",
      "text/plain": [
       "<Figure size 432x288 with 1 Axes>"
      ]
     },
     "metadata": {
      "needs_background": "light"
     },
     "output_type": "display_data"
    }
   ],
   "source": [
    "# Northern Hemisphere - Max Temp vs. Latitude Linear Regression: \n",
    "x_values = pd.to_numeric(north_hemisphere['Lat']).astype(float)\n",
    "y_values = pd.to_numeric(north_hemisphere['Max Temp']).astype(float)\n",
    "(slope, intercept, rvalue, pvalue, stderr) = linregress(x_values, y_values)\n",
    "regress_values = x_values * slope + intercept\n",
    "line_eq = \"y = \" + str(round(slope,2)) + \"x + \" + str(round(intercept,2))\n",
    "\n",
    "# Plot 1: Northern Hemisphere - Max Temp vs. Latitude Linear Regression\n",
    "plt.scatter(x_values,y_values)\n",
    "plt.plot(x_values,regress_values,\"r-\")\n",
    "plt.annotate(line_eq,(16,10),fontsize=15,color=\"red\")\n",
    "plt.xlabel('Latitude')\n",
    "plt.ylabel('Max Temperature (F)')\n",
    "plt.title('Northern Hemisphere - Max Temp vs. Latitude Linear Regression')\n",
    "\n",
    "# Calculated pvalue to determine whether correlation is significant(if there is truly a relationship):\n",
    "print(f\"The p-value is: {pvalue}\")\n",
    "print(f\"The r-value is: {rvalue}\")\n",
    "\n",
    "plt.savefig(\"../Images/north_temp_lg.png\")\n",
    "plt.show() "
   ]
  },
  {
   "cell_type": "markdown",
   "metadata": {},
   "source": [
    "####  Southern Hemisphere - Max Temp vs. Latitude Linear Regression"
   ]
  },
  {
   "cell_type": "code",
   "execution_count": 54,
   "metadata": {},
   "outputs": [
    {
     "name": "stdout",
     "output_type": "stream",
     "text": [
      "The p-value is: 5.398607501189871e-24\n",
      "The r-value is: 0.655785657476248\n"
     ]
    },
    {
     "data": {
      "image/png": "[encoded data removed]",
      "text/plain": [
       "<Figure size 432x288 with 1 Axes>"
      ]
     },
     "metadata": {
      "needs_background": "light"
     },
     "output_type": "display_data"
    }
   ],
   "source": [
    "# Southern Hemisphere - Max Temp vs. Latitude Linear Regression:\n",
    "x_values = pd.to_numeric(south_hemisphere['Lat']).astype(float)\n",
    "y_values = pd.to_numeric(south_hemisphere['Max Temp']).astype(float)\n",
    "(slope, intercept, rvalue, pvalue, stderr) = linregress(x_values, y_values)\n",
    "regress_values = x_values * slope + intercept\n",
    "line_eq = \"y = \" + str(round(slope,2)) + \"x + \" + str(round(intercept,2))\n",
    "\n",
    "# Plot 2: Southern Hemisphere - Max Temp vs. Latitude Linear Regression\n",
    "plt.scatter(x_values,y_values)\n",
    "plt.plot(x_values,regress_values,\"r-\")\n",
    "plt.annotate(line_eq,(-40,45),fontsize=15,color=\"red\")\n",
    "plt.xlabel('Latitude')\n",
    "plt.ylabel('Max Temperature (F)')\n",
    "plt.title('Southern Hemisphere - Max Temp vs. Latitude Linear Regression')\n",
    "\n",
    "# Calculated pvalue to determine whether correlation is significant(if there is truly a relationship):\n",
    "print(f\"The p-value is: {pvalue}\")\n",
    "print(f\"The r-value is: {rvalue}\")\n",
    "\n",
    "plt.savefig(\"../Images/south_temp_lg.png\")\n",
    "plt.show()"
   ]
  },
  {
   "cell_type": "markdown",
   "metadata": {},
   "source": [
    "## After each pair of plots explain what the linear regression is modeling such as any relationships you notice and any other analysis you may have."
   ]
  },
  {
   "cell_type": "markdown",
   "metadata": {},
   "source": [
    "***\n",
    "## First pair:\n",
    "### Comparing the linear regression of temperatures at changing latitudes in the northern vs southern hemisphere:\n",
    "\n",
    "> The linear regression is modeling what happens to temperature as latitudes increase in the northern and southern hemispheres. In addition, this means that for the northern hemisphere as latitude increases you move further away from the equator. On the other hand, in the southern hemisphere latitudes decrease as we move away from the equator. For the northern hemisphere there is a significant negative correlation between latitude and maximum temperature. Whereas, in the southern hemisphere there is a positive correlation between latitude and maximum temperature.  \n",
    "***"
   ]
  },
  {
   "cell_type": "markdown",
   "metadata": {},
   "source": [
    "####  Northern Hemisphere - Humidity (%) vs. Latitude Linear Regression"
   ]
  },
  {
   "cell_type": "code",
   "execution_count": 55,
   "metadata": {},
   "outputs": [
    {
     "name": "stdout",
     "output_type": "stream",
     "text": [
      "The p-value is: 1.321095301535627e-08\n",
      "The r-value is: 0.2939175197434048\n"
     ]
    },
    {
     "data": {
      "image/png": "[encoded data removed]",
      "text/plain": [
       "<Figure size 432x288 with 1 Axes>"
      ]
     },
     "metadata": {
      "needs_background": "light"
     },
     "output_type": "display_data"
    }
   ],
   "source": [
    "# Northern Hemisphere - Humidity (%) vs. Latitude Linear Regression\n",
    "x_values = pd.to_numeric(north_hemisphere['Lat']).astype(float)\n",
    "y_values = pd.to_numeric(north_hemisphere['Humidity']).astype(float)\n",
    "(slope, intercept, rvalue, pvalue, stderr) = linregress(x_values, y_values)\n",
    "regress_values = x_values * slope + intercept\n",
    "line_eq = \"y = \" + str(round(slope,2)) + \"x + \" + str(round(intercept,2))\n",
    "\n",
    "# Plot 3: Northern Hemisphere - Humidity (%) vs. Latitude Linear Regression\n",
    "plt.scatter(x_values,y_values)\n",
    "plt.plot(x_values,regress_values,\"r-\")\n",
    "plt.annotate(line_eq,(10,15),fontsize=15,color=\"red\")\n",
    "plt.xlabel('Latitude')\n",
    "plt.ylabel('Humidity (%)')\n",
    "plt.title('Northern Hemisphere - Humidity (%) vs. Latitude Linear Regression')\n",
    "\n",
    "# Calculated pvalue to determine whether correlation is significant(if there is truly a relationship):\n",
    "print(f\"The p-value is: {pvalue}\")\n",
    "print(f\"The r-value is: {rvalue}\")\n",
    "\n",
    "plt.savefig(\"../Images/north_humidity_lg.png\")\n",
    "plt.show() "
   ]
  },
  {
   "cell_type": "markdown",
   "metadata": {},
   "source": [
    "####  Southern Hemisphere - Humidity (%) vs. Latitude Linear Regression"
   ]
  },
  {
   "cell_type": "code",
   "execution_count": 56,
   "metadata": {},
   "outputs": [
    {
     "name": "stdout",
     "output_type": "stream",
     "text": [
      "The p-value is: 0.478436359565089\n",
      "The r-value is: 0.052577027954518955\n"
     ]
    },
    {
     "data": {
      "image/png": "[encoded data removed]",
      "text/plain": [
       "<Figure size 432x288 with 1 Axes>"
      ]
     },
     "metadata": {
      "needs_background": "light"
     },
     "output_type": "display_data"
    }
   ],
   "source": [
    "# Southern Hemisphere - Humidity (%) vs. Latitude Linear Regression\n",
    "x_values = pd.to_numeric(south_hemisphere['Lat']).astype(float)\n",
    "y_values = pd.to_numeric(south_hemisphere['Humidity']).astype(float)\n",
    "(slope, intercept, rvalue, pvalue, stderr) = linregress(x_values, y_values)\n",
    "regress_values = x_values * slope + intercept\n",
    "line_eq = \"y = \" + str(round(slope,2)) + \"x + \" + str(round(intercept,2))\n",
    "\n",
    "# Plot 4: Southern Hemisphere - Humidity (%) vs. Latitude Linear Regression\n",
    "plt.scatter(x_values,y_values)\n",
    "plt.plot(x_values,regress_values,\"r-\")\n",
    "plt.annotate(line_eq,(-40,40),fontsize=15,color=\"red\")\n",
    "plt.xlabel('Latitude')\n",
    "plt.ylabel('Humidity (%')\n",
    "plt.title('Southern Hemisphere - Humidity (%) vs. Latitude Linear Regression')\n",
    "\n",
    "# Calculated pvalue to determine whether correlation is significant(if there is truly a relationship):\n",
    "print(f\"The p-value is: {pvalue}\")\n",
    "print(f\"The r-value is: {rvalue}\")\n",
    "\n",
    "plt.savefig(\"../Images/south_humidity_lg.png\")\n",
    "plt.show()"
   ]
  },
  {
   "cell_type": "markdown",
   "metadata": {},
   "source": [
    "***\n",
    "## Second pair:\n",
    "### Comparing the linear regression of humidity at changing latitudes in the northern vs southern hemisphere:\n",
    "\n",
    "> The linear regression is modeling what happens to humidity as latitude increases in the northern and southern hemispheres. As latitude increases for the northern hemisphere we move further away from the equator, and as latitude increases for the southern hemisphere we move closer to the equator. \n",
    "As latitude increases in the northern hemisphere so does humidity, which means there is a positive correlation. There is no significant correlation between latitudes and humidity in the southern hemisphere. \n",
    "***\n",
    "\n"
   ]
  },
  {
   "cell_type": "markdown",
   "metadata": {},
   "source": [
    "####  Northern Hemisphere - Cloudiness (%) vs. Latitude Linear Regression"
   ]
  },
  {
   "cell_type": "code",
   "execution_count": 57,
   "metadata": {},
   "outputs": [
    {
     "name": "stdout",
     "output_type": "stream",
     "text": [
      "The p-value is: 0.0072063099250403995\n",
      "The r-value is: 0.14140507437090966\n"
     ]
    },
    {
     "data": {
      "image/png": "[encoded data removed]",
      "text/plain": [
       "<Figure size 432x288 with 1 Axes>"
      ]
     },
     "metadata": {
      "needs_background": "light"
     },
     "output_type": "display_data"
    }
   ],
   "source": [
    "# Northern Hemisphere - Cloudiness (%) vs. Latitude Linear Regression\n",
    "x_values = pd.to_numeric(north_hemisphere['Lat']).astype(float)\n",
    "y_values = pd.to_numeric(north_hemisphere['Cloudiness']).astype(float)\n",
    "(slope, intercept, rvalue, pvalue, stderr) = linregress(x_values, y_values)\n",
    "regress_values = x_values * slope + intercept\n",
    "line_eq = \"y = \" + str(round(slope,2)) + \"x + \" + str(round(intercept,2))\n",
    "\n",
    "# Plot 5: Northern Hemisphere - Cloudiness (%) vs. Latitude Linear Regression\n",
    "plt.scatter(x_values,y_values)\n",
    "plt.plot(x_values,regress_values,\"r-\")\n",
    "plt.annotate(line_eq,(6,10),fontsize=15,color=\"red\")\n",
    "plt.xlabel('Latitude')\n",
    "plt.ylabel('Cloudiness (%)')\n",
    "plt.title('Northern Hemisphere - Cloudiness (%) vs. Latitude Linear Regression')\n",
    "\n",
    "# Calculated pvalue to determine whether correlation is significant(if there is truly a relationship):\n",
    "print(f\"The p-value is: {pvalue}\")\n",
    "print(f\"The r-value is: {rvalue}\")\n",
    "\n",
    "plt.savefig(\"../Images/north_cloud_lg.png\")\n",
    "plt.show() "
   ]
  },
  {
   "cell_type": "markdown",
   "metadata": {},
   "source": [
    "####  Southern Hemisphere - Cloudiness (%) vs. Latitude Linear Regression"
   ]
  },
  {
   "cell_type": "code",
   "execution_count": 58,
   "metadata": {},
   "outputs": [
    {
     "name": "stdout",
     "output_type": "stream",
     "text": [
      "The p-value is: 0.0703760088753889\n",
      "The r-value is: 0.1337084223809311\n"
     ]
    },
    {
     "data": {
      "image/png": "[encoded data removed]",
      "text/plain": [
       "<Figure size 432x288 with 1 Axes>"
      ]
     },
     "metadata": {
      "needs_background": "light"
     },
     "output_type": "display_data"
    }
   ],
   "source": [
    "# Southern Hemisphere - Cloudiness (%) vs. Latitude Linear Regression:\n",
    "x_values = pd.to_numeric(south_hemisphere['Lat']).astype(float)\n",
    "y_values = pd.to_numeric(south_hemisphere['Cloudiness']).astype(float)\n",
    "(slope, intercept, rvalue, pvalue, stderr) = linregress(x_values, y_values)\n",
    "regress_values = x_values * slope + intercept\n",
    "line_eq = \"y = \" + str(round(slope,2)) + \"x + \" + str(round(intercept,2))\n",
    "\n",
    "# Plot 6: Southern Hemisphere - Cloudiness (%) vs. Latitude Linear Regression\n",
    "plt.scatter(x_values,y_values)\n",
    "plt.plot(x_values,regress_values,\"r-\")\n",
    "plt.annotate(line_eq,(-40,20),fontsize=15,color=\"red\")\n",
    "plt.xlabel('Latitude')\n",
    "plt.ylabel('Cloudiness (%')\n",
    "plt.title('Southern Hemisphere - Cloudiness (%) vs. Latitude Linear Regression')\n",
    "\n",
    "# Calculated pvalue to determine whether correlation is significant(if there is truly a relationship):\n",
    "print(f\"The p-value is: {pvalue}\")\n",
    "print(f\"The r-value is: {rvalue}\")\n",
    "\n",
    "plt.savefig(\"../Images/south_cloud_lg.png\")\n",
    "plt.show()"
   ]
  },
  {
   "cell_type": "markdown",
   "metadata": {},
   "source": [
    "***\n",
    "## Third pair:\n",
    "### Comparing the linear regression of cloudiness at changing latitudes in the northern vs southern hemisphere:\n",
    "> The linear regression is modeling what happens to cloudiness as latitudes increase in the northern and southern hemispheres. As latitude increases for the northern hemisphere we move further away from the equator, and as latitude increases for the southern hemisphere we move closer to the equator. For the northern hemisphere, increases in latitude appear to be weakly related to increases in cloudiness, but there is significant positive relationship/correlation. On the other hand, there is no relationship between latitude and cloudiness in the southern hemisphere.\n",
    "***"
   ]
  },
  {
   "cell_type": "markdown",
   "metadata": {},
   "source": [
    "####  Northern Hemisphere - Wind Speed (mph) vs. Latitude Linear Regression"
   ]
  },
  {
   "cell_type": "code",
   "execution_count": 59,
   "metadata": {},
   "outputs": [
    {
     "name": "stdout",
     "output_type": "stream",
     "text": [
      "The p-value is: 3.4414193702357424e-05\n",
      "The r-value is: 0.21646678390715757\n"
     ]
    },
    {
     "data": {
      "image/png": "[encoded data removed]",
      "text/plain": [
       "<Figure size 432x288 with 1 Axes>"
      ]
     },
     "metadata": {
      "needs_background": "light"
     },
     "output_type": "display_data"
    }
   ],
   "source": [
    "# Northern Hemisphere - Wind Speed (mph) vs. Latitude Linear Regression:\n",
    "x_values = pd.to_numeric(north_hemisphere['Lat']).astype(float)\n",
    "y_values = pd.to_numeric(north_hemisphere['Wind Speed']).astype(float)\n",
    "(slope, intercept, rvalue, pvalue, stderr) = linregress(x_values, y_values)\n",
    "regress_values = x_values * slope + intercept\n",
    "line_eq = \"y = \" + str(round(slope,2)) + \"x + \" + str(round(intercept,2))\n",
    "\n",
    "# Plot 7: Northern Hemisphere - Wind Speed (mph) vs. Latitude Linear Regression\n",
    "plt.scatter(x_values,y_values)\n",
    "plt.plot(x_values,regress_values,\"r-\")\n",
    "plt.annotate(line_eq,(30,20),fontsize=15,color=\"red\")\n",
    "plt.xlabel('Latitude')\n",
    "plt.ylabel('Wind Speed (mph')\n",
    "plt.title('Northern Hemisphere - Wind Speed (mph) vs. Latitude Linear Regression')\n",
    "\n",
    "# Calculated pvalue to determine whether correlation is significant(if there is truly a relationship):\n",
    "print(f\"The p-value is: {pvalue}\")\n",
    "print(f\"The r-value is: {rvalue}\")\n",
    "\n",
    "plt.savefig(\"../Images/north_wind_lg.png\")\n",
    "plt.show() "
   ]
  },
  {
   "cell_type": "markdown",
   "metadata": {},
   "source": [
    "####  Southern Hemisphere - Wind Speed (mph) vs. Latitude Linear Regression"
   ]
  },
  {
   "cell_type": "code",
   "execution_count": 60,
   "metadata": {},
   "outputs": [
    {
     "name": "stdout",
     "output_type": "stream",
     "text": [
      "The p-value is: 0.0002540730647196743\n",
      "The r-value is: -0.26659949699361324\n"
     ]
    },
    {
     "data": {
      "image/png": "[encoded data removed]",
      "text/plain": [
       "<Figure size 432x288 with 1 Axes>"
      ]
     },
     "metadata": {
      "needs_background": "light"
     },
     "output_type": "display_data"
    }
   ],
   "source": [
    "# Southern Hemisphere - Wind Speed (mph) vs. Latitude Linear Regression: \n",
    "x_values = pd.to_numeric(south_hemisphere['Lat']).astype(float)\n",
    "y_values = pd.to_numeric(south_hemisphere['Wind Speed']).astype(float)\n",
    "(slope, intercept, rvalue, pvalue, stderr) = linregress(x_values, y_values)\n",
    "regress_values = x_values * slope + intercept\n",
    "line_eq = \"y = \" + str(round(slope,2)) + \"x + \" + str(round(intercept,2))\n",
    "\n",
    "# Plot 8: Southern Hemisphere - Wind Speed (mph) vs. Latitude Linear Regression\n",
    "plt.scatter(x_values,y_values)\n",
    "plt.plot(x_values,regress_values,\"r-\")\n",
    "plt.annotate(line_eq,(-40,20),fontsize=15,color=\"red\")\n",
    "plt.xlabel('Latitude')\n",
    "plt.ylabel('Wind Speed (mph')\n",
    "plt.title('Southern Hemisphere - Wind Speed (mph) vs. Latitude Linear Regression')\n",
    "\n",
    "# Calculated pvalue to determine whether correlation is significant(if there is truly a relationship):\n",
    "print(f\"The p-value is: {pvalue}\")\n",
    "print(f\"The r-value is: {rvalue}\")\n",
    "\n",
    "plt.savefig(\"../Images/south_wind_lg.png\")\n",
    "plt.show() "
   ]
  },
  {
   "cell_type": "markdown",
   "metadata": {},
   "source": [
    "***\n",
    "## Forth pair:\n",
    "### Comparing the linear regression of wind speed at changing latitudes in the northern vs southern hemisphere:\n",
    "> The linear regression is modeling what happens to wind speed as latitudes increase in the northern and southern hemispheres. As latitude increases for the northern hemisphere we move further away from the equator, and as latitude increases for the southern hemisphere we move closer to the equator. In the northern hemisphere, although the relationship between increasing latitude and wind speed is significant (based on the p-value), there only appears to be a weak correlation. On the other hand, in the southern hemisphere there is no correlation between the increasing latitude and wind speed. \n",
    "***"
   ]
  },
  {
   "cell_type": "markdown",
   "metadata": {},
   "source": [
    "## Written description of three observable trends based on the data:\n",
    ">* For regions that are close to the equator there is a trend of increased temperature for both the northern and southern hemispheres. This is reasonable given the progressive distance from the equator both north and south, respectively.   \n",
    ">* Across both the northern and southern hemispheres humidity is mostly over 60%, and it trends opposite to temperature, which is accurate given relative humidity increases with decreasing temperature.  \n",
    ">* For both hemispheres wind speed was generally below 20 miles per hour irrespective of latitude. This appears reasonable given wind speed is determined by pressure differentials across regions and not latitutde. \n",
    ">* Cloudiness across both hemispheres was variable and displayed no pattern based on latitude, this is similar to wind speed. \n",
    "****"
   ]
  },
  {
   "cell_type": "code",
   "execution_count": null,
   "metadata": {},
   "outputs": [],
   "source": []
  }
 ],
 "metadata": {
  "anaconda-cloud": {},
  "kernel_info": {
   "name": "python3"
  },
  "kernelspec": {
   "display_name": "Python [conda env:PythonData] *",
   "language": "python",
   "name": "conda-env-PythonData-py"
  },
  "language_info": {
   "codemirror_mode": {
    "name": "ipython",
    "version": 3
   },
   "file_extension": ".py",
   "mimetype": "text/x-python",
   "name": "python",
   "nbconvert_exporter": "python",
   "pygments_lexer": "ipython3",
   "version": "3.6.12"
  },
  "latex_envs": {
   "LaTeX_envs_menu_present": true,
   "autoclose": false,
   "autocomplete": true,
   "bibliofile": "biblio.bib",
   "cite_by": "apalike",
   "current_citInitial": 1,
   "eqLabelWithNumbers": true,
   "eqNumInitial": 1,
   "hotkeys": {
    "equation": "Ctrl-E",
    "itemize": "Ctrl-I"
   },
   "labels_anchors": false,
   "latex_user_defs": false,
   "report_style_numbering": false,
   "user_envs_cfg": false
  },
  "nteract": {
   "version": "0.12.3"
  }
 },
 "nbformat": 4,
 "nbformat_minor": 2
}
